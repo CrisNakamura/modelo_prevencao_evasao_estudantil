{
 "cells": [
  {
   "cell_type": "markdown",
   "metadata": {},
   "source": [
    "## Identificação e Prevenção de Evasão Estudantil\n",
    "\n",
    "## Descrição\n",
    "Uma instituição de ensino superior solicitou que desenvolvêssemos um modelo de Machine Learning destinado a prever a evasão de estudantes, ou seja, prever se as pessoas estudantes estão propensos a abandonar seu curso ou faculdade antes que isso realmente ocorra.\n",
    "\n",
    "## Objetivo\n",
    "O objetivo deste projeto é compreender e classificar os estudantes propensos a abandonar ou desistir do curso, utilizando o modelo de RandomForest.\n",
    "Os dados utilizados neste curso foram obtidos do [UCI Machine Learning Repository](https://archive.ics.uci.edu/dataset/697/predict+students+dropout+and+academic+success). Após a obtenção desses dados, eles passaram por adaptações e estão disponíveis na pasta **Dados**. Para melhor informação sobre os dados consultar a [página](https://www.mdpi.com/2306-5729/7/11/146#app2-data-07-00146).\n"
   ]
  },
  {
   "cell_type": "markdown",
   "metadata": {},
   "source": [
    "## Bibliotecas e configurações iniciais"
   ]
  },
  {
   "cell_type": "code",
   "execution_count": 1,
   "metadata": {},
   "outputs": [],
   "source": [
    "import pandas as pd\n",
    "import matplotlib.pyplot as plt\n",
    "import seaborn as sns\n",
    "from warnings import simplefilter\n",
    "import plotly.express as px\n",
    "from sklearn.preprocessing import OneHotEncoder\n",
    "from sklearn.model_selection import train_test_split\n",
    "from sklearn.ensemble import RandomForestClassifier\n",
    "from sklearn.metrics import confusion_matrix, ConfusionMatrixDisplay\n",
    "from sklearn.metrics import classification_report\n",
    "from imblearn.over_sampling import SMOTE\n",
    "pd.set_option('display.max_columns', None)\n",
    "simplefilter(action='ignore', category=(FutureWarning, UserWarning))"
   ]
  },
  {
   "cell_type": "markdown",
   "metadata": {},
   "source": [
    "## Carregando os dados"
   ]
  },
  {
   "cell_type": "code",
   "execution_count": 2,
   "metadata": {},
   "outputs": [
    {
     "data": {
      "text/html": [
       "<div>\n",
       "<style scoped>\n",
       "    .dataframe tbody tr th:only-of-type {\n",
       "        vertical-align: middle;\n",
       "    }\n",
       "\n",
       "    .dataframe tbody tr th {\n",
       "        vertical-align: top;\n",
       "    }\n",
       "\n",
       "    .dataframe thead th {\n",
       "        text-align: right;\n",
       "    }\n",
       "</style>\n",
       "<table border=\"1\" class=\"dataframe\">\n",
       "  <thead>\n",
       "    <tr style=\"text-align: right;\">\n",
       "      <th></th>\n",
       "      <th>Estado civil</th>\n",
       "      <th>Migração</th>\n",
       "      <th>Sexo</th>\n",
       "      <th>Idade na matrícula</th>\n",
       "      <th>Estrangeiro</th>\n",
       "      <th>Necessidades educacionais especiais</th>\n",
       "      <th>Devedor</th>\n",
       "      <th>Taxas de matrícula em dia</th>\n",
       "      <th>Bolsista</th>\n",
       "      <th>Taxa de desemprego</th>\n",
       "      <th>Taxa de inflação</th>\n",
       "      <th>PIB</th>\n",
       "      <th>Curso</th>\n",
       "      <th>Período</th>\n",
       "      <th>Qualificação prévia</th>\n",
       "      <th>disciplinas 1º semestre (creditadas)</th>\n",
       "      <th>disciplinas 1º semestre (matriculadas)</th>\n",
       "      <th>disciplinas 1º semestre (avaliações)</th>\n",
       "      <th>disciplinas 1º semestre (aprovadas)</th>\n",
       "      <th>disciplinas 1º semestre (notas)</th>\n",
       "      <th>disciplinas 1º semestre (sem avaliações)</th>\n",
       "      <th>disciplinas 2º semestre (creditadas)</th>\n",
       "      <th>disciplinas 2º semestre (matriculadas)</th>\n",
       "      <th>disciplinas 2º semestre (avaliações)</th>\n",
       "      <th>disciplinas 2º semestre (aprovadas)</th>\n",
       "      <th>disciplinas 2º semestre (notas)</th>\n",
       "      <th>disciplinas 2º semestre (sem avaliações)</th>\n",
       "      <th>Target</th>\n",
       "    </tr>\n",
       "  </thead>\n",
       "  <tbody>\n",
       "    <tr>\n",
       "      <th>0</th>\n",
       "      <td>Solteiro</td>\n",
       "      <td>Sim</td>\n",
       "      <td>Masculino</td>\n",
       "      <td>20</td>\n",
       "      <td>Não</td>\n",
       "      <td>Não</td>\n",
       "      <td>Não</td>\n",
       "      <td>Sim</td>\n",
       "      <td>Não</td>\n",
       "      <td>10.8</td>\n",
       "      <td>1.4</td>\n",
       "      <td>1.74</td>\n",
       "      <td>Animação e Design Multimídia</td>\n",
       "      <td>Diurno</td>\n",
       "      <td>Educação secundária</td>\n",
       "      <td>0</td>\n",
       "      <td>0</td>\n",
       "      <td>0</td>\n",
       "      <td>0</td>\n",
       "      <td>0.000000</td>\n",
       "      <td>0</td>\n",
       "      <td>0</td>\n",
       "      <td>0</td>\n",
       "      <td>0</td>\n",
       "      <td>0</td>\n",
       "      <td>0.000000</td>\n",
       "      <td>0</td>\n",
       "      <td>Desistente</td>\n",
       "    </tr>\n",
       "    <tr>\n",
       "      <th>1</th>\n",
       "      <td>Solteiro</td>\n",
       "      <td>Sim</td>\n",
       "      <td>Masculino</td>\n",
       "      <td>19</td>\n",
       "      <td>Não</td>\n",
       "      <td>Não</td>\n",
       "      <td>Não</td>\n",
       "      <td>Não</td>\n",
       "      <td>Não</td>\n",
       "      <td>13.9</td>\n",
       "      <td>-0.3</td>\n",
       "      <td>0.79</td>\n",
       "      <td>Turismo</td>\n",
       "      <td>Diurno</td>\n",
       "      <td>Educação secundária</td>\n",
       "      <td>0</td>\n",
       "      <td>6</td>\n",
       "      <td>6</td>\n",
       "      <td>6</td>\n",
       "      <td>14.000000</td>\n",
       "      <td>0</td>\n",
       "      <td>0</td>\n",
       "      <td>6</td>\n",
       "      <td>6</td>\n",
       "      <td>6</td>\n",
       "      <td>13.666667</td>\n",
       "      <td>0</td>\n",
       "      <td>Graduado</td>\n",
       "    </tr>\n",
       "    <tr>\n",
       "      <th>2</th>\n",
       "      <td>Solteiro</td>\n",
       "      <td>Sim</td>\n",
       "      <td>Masculino</td>\n",
       "      <td>19</td>\n",
       "      <td>Não</td>\n",
       "      <td>Não</td>\n",
       "      <td>Não</td>\n",
       "      <td>Não</td>\n",
       "      <td>Não</td>\n",
       "      <td>10.8</td>\n",
       "      <td>1.4</td>\n",
       "      <td>1.74</td>\n",
       "      <td>Design de Comunicação</td>\n",
       "      <td>Diurno</td>\n",
       "      <td>Educação secundária</td>\n",
       "      <td>0</td>\n",
       "      <td>6</td>\n",
       "      <td>0</td>\n",
       "      <td>0</td>\n",
       "      <td>0.000000</td>\n",
       "      <td>0</td>\n",
       "      <td>0</td>\n",
       "      <td>6</td>\n",
       "      <td>0</td>\n",
       "      <td>0</td>\n",
       "      <td>0.000000</td>\n",
       "      <td>0</td>\n",
       "      <td>Desistente</td>\n",
       "    </tr>\n",
       "    <tr>\n",
       "      <th>3</th>\n",
       "      <td>Solteiro</td>\n",
       "      <td>Sim</td>\n",
       "      <td>Feminino</td>\n",
       "      <td>20</td>\n",
       "      <td>Não</td>\n",
       "      <td>Não</td>\n",
       "      <td>Não</td>\n",
       "      <td>Sim</td>\n",
       "      <td>Não</td>\n",
       "      <td>9.4</td>\n",
       "      <td>-0.8</td>\n",
       "      <td>-3.12</td>\n",
       "      <td>Jornalismo e Comunicação</td>\n",
       "      <td>Diurno</td>\n",
       "      <td>Educação secundária</td>\n",
       "      <td>0</td>\n",
       "      <td>6</td>\n",
       "      <td>8</td>\n",
       "      <td>6</td>\n",
       "      <td>13.428571</td>\n",
       "      <td>0</td>\n",
       "      <td>0</td>\n",
       "      <td>6</td>\n",
       "      <td>10</td>\n",
       "      <td>5</td>\n",
       "      <td>12.400000</td>\n",
       "      <td>0</td>\n",
       "      <td>Graduado</td>\n",
       "    </tr>\n",
       "    <tr>\n",
       "      <th>4</th>\n",
       "      <td>Casado</td>\n",
       "      <td>Não</td>\n",
       "      <td>Feminino</td>\n",
       "      <td>45</td>\n",
       "      <td>Não</td>\n",
       "      <td>Não</td>\n",
       "      <td>Não</td>\n",
       "      <td>Sim</td>\n",
       "      <td>Não</td>\n",
       "      <td>13.9</td>\n",
       "      <td>-0.3</td>\n",
       "      <td>0.79</td>\n",
       "      <td>Serviço Social (noturno)</td>\n",
       "      <td>Noturno</td>\n",
       "      <td>Educação secundária</td>\n",
       "      <td>0</td>\n",
       "      <td>6</td>\n",
       "      <td>9</td>\n",
       "      <td>5</td>\n",
       "      <td>12.333333</td>\n",
       "      <td>0</td>\n",
       "      <td>0</td>\n",
       "      <td>6</td>\n",
       "      <td>6</td>\n",
       "      <td>6</td>\n",
       "      <td>13.000000</td>\n",
       "      <td>0</td>\n",
       "      <td>Graduado</td>\n",
       "    </tr>\n",
       "  </tbody>\n",
       "</table>\n",
       "</div>"
      ],
      "text/plain": [
       "  Estado civil Migração       Sexo  Idade na matrícula Estrangeiro  \\\n",
       "0     Solteiro      Sim  Masculino                  20         Não   \n",
       "1     Solteiro      Sim  Masculino                  19         Não   \n",
       "2     Solteiro      Sim  Masculino                  19         Não   \n",
       "3     Solteiro      Sim   Feminino                  20         Não   \n",
       "4       Casado      Não   Feminino                  45         Não   \n",
       "\n",
       "  Necessidades educacionais especiais Devedor Taxas de matrícula em dia  \\\n",
       "0                                 Não     Não                       Sim   \n",
       "1                                 Não     Não                       Não   \n",
       "2                                 Não     Não                       Não   \n",
       "3                                 Não     Não                       Sim   \n",
       "4                                 Não     Não                       Sim   \n",
       "\n",
       "  Bolsista  Taxa de desemprego  Taxa de inflação   PIB  \\\n",
       "0      Não                10.8               1.4  1.74   \n",
       "1      Não                13.9              -0.3  0.79   \n",
       "2      Não                10.8               1.4  1.74   \n",
       "3      Não                 9.4              -0.8 -3.12   \n",
       "4      Não                13.9              -0.3  0.79   \n",
       "\n",
       "                          Curso  Período  Qualificação prévia  \\\n",
       "0  Animação e Design Multimídia   Diurno  Educação secundária   \n",
       "1                       Turismo   Diurno  Educação secundária   \n",
       "2         Design de Comunicação   Diurno  Educação secundária   \n",
       "3      Jornalismo e Comunicação   Diurno  Educação secundária   \n",
       "4      Serviço Social (noturno)  Noturno  Educação secundária   \n",
       "\n",
       "   disciplinas 1º semestre (creditadas)  \\\n",
       "0                                     0   \n",
       "1                                     0   \n",
       "2                                     0   \n",
       "3                                     0   \n",
       "4                                     0   \n",
       "\n",
       "   disciplinas 1º semestre (matriculadas)  \\\n",
       "0                                       0   \n",
       "1                                       6   \n",
       "2                                       6   \n",
       "3                                       6   \n",
       "4                                       6   \n",
       "\n",
       "   disciplinas 1º semestre (avaliações)  disciplinas 1º semestre (aprovadas)  \\\n",
       "0                                     0                                    0   \n",
       "1                                     6                                    6   \n",
       "2                                     0                                    0   \n",
       "3                                     8                                    6   \n",
       "4                                     9                                    5   \n",
       "\n",
       "   disciplinas 1º semestre (notas)  disciplinas 1º semestre (sem avaliações)  \\\n",
       "0                         0.000000                                         0   \n",
       "1                        14.000000                                         0   \n",
       "2                         0.000000                                         0   \n",
       "3                        13.428571                                         0   \n",
       "4                        12.333333                                         0   \n",
       "\n",
       "   disciplinas 2º semestre (creditadas)  \\\n",
       "0                                     0   \n",
       "1                                     0   \n",
       "2                                     0   \n",
       "3                                     0   \n",
       "4                                     0   \n",
       "\n",
       "   disciplinas 2º semestre (matriculadas)  \\\n",
       "0                                       0   \n",
       "1                                       6   \n",
       "2                                       6   \n",
       "3                                       6   \n",
       "4                                       6   \n",
       "\n",
       "   disciplinas 2º semestre (avaliações)  disciplinas 2º semestre (aprovadas)  \\\n",
       "0                                     0                                    0   \n",
       "1                                     6                                    6   \n",
       "2                                     0                                    0   \n",
       "3                                    10                                    5   \n",
       "4                                     6                                    6   \n",
       "\n",
       "   disciplinas 2º semestre (notas)  disciplinas 2º semestre (sem avaliações)  \\\n",
       "0                         0.000000                                         0   \n",
       "1                        13.666667                                         0   \n",
       "2                         0.000000                                         0   \n",
       "3                        12.400000                                         0   \n",
       "4                        13.000000                                         0   \n",
       "\n",
       "       Target  \n",
       "0  Desistente  \n",
       "1    Graduado  \n",
       "2  Desistente  \n",
       "3    Graduado  \n",
       "4    Graduado  "
      ]
     },
     "execution_count": 2,
     "metadata": {},
     "output_type": "execute_result"
    }
   ],
   "source": [
    "# Carregando os dados.\n",
    "dados = pd.read_csv('Dados/dados_estudantes.csv')\n",
    "\n",
    "# Visualizando as primeiras linhas.\n",
    "dados.head()"
   ]
  },
  {
   "cell_type": "code",
   "execution_count": 3,
   "metadata": {},
   "outputs": [
    {
     "name": "stdout",
     "output_type": "stream",
     "text": [
      "<class 'pandas.core.frame.DataFrame'>\n",
      "RangeIndex: 4424 entries, 0 to 4423\n",
      "Data columns (total 28 columns):\n",
      " #   Column                                    Non-Null Count  Dtype  \n",
      "---  ------                                    --------------  -----  \n",
      " 0   Estado civil                              4424 non-null   object \n",
      " 1   Migração                                  4424 non-null   object \n",
      " 2   Sexo                                      4424 non-null   object \n",
      " 3   Idade na matrícula                        4424 non-null   int64  \n",
      " 4   Estrangeiro                               4424 non-null   object \n",
      " 5   Necessidades educacionais especiais       4424 non-null   object \n",
      " 6   Devedor                                   4424 non-null   object \n",
      " 7   Taxas de matrícula em dia                 4424 non-null   object \n",
      " 8   Bolsista                                  4424 non-null   object \n",
      " 9   Taxa de desemprego                        4424 non-null   float64\n",
      " 10  Taxa de inflação                          4424 non-null   float64\n",
      " 11  PIB                                       4424 non-null   float64\n",
      " 12  Curso                                     4424 non-null   object \n",
      " 13  Período                                   4424 non-null   object \n",
      " 14  Qualificação prévia                       4424 non-null   object \n",
      " 15  disciplinas 1º semestre (creditadas)      4424 non-null   int64  \n",
      " 16  disciplinas 1º semestre (matriculadas)    4424 non-null   int64  \n",
      " 17  disciplinas 1º semestre (avaliações)      4424 non-null   int64  \n",
      " 18  disciplinas 1º semestre (aprovadas)       4424 non-null   int64  \n",
      " 19  disciplinas 1º semestre (notas)           4424 non-null   float64\n",
      " 20  disciplinas 1º semestre (sem avaliações)  4424 non-null   int64  \n",
      " 21  disciplinas 2º semestre (creditadas)      4424 non-null   int64  \n",
      " 22  disciplinas 2º semestre (matriculadas)    4424 non-null   int64  \n",
      " 23  disciplinas 2º semestre (avaliações)      4424 non-null   int64  \n",
      " 24  disciplinas 2º semestre (aprovadas)       4424 non-null   int64  \n",
      " 25  disciplinas 2º semestre (notas)           4424 non-null   float64\n",
      " 26  disciplinas 2º semestre (sem avaliações)  4424 non-null   int64  \n",
      " 27  Target                                    4424 non-null   object \n",
      "dtypes: float64(5), int64(11), object(12)\n",
      "memory usage: 967.9+ KB\n"
     ]
    }
   ],
   "source": [
    "# Visualizando as informações do dataset.\n",
    "dados.info()"
   ]
  },
  {
   "cell_type": "markdown",
   "metadata": {},
   "source": [
    "## Análse inicial\n",
    "\n",
    "### Análise de colunas numéricas\n",
    "\n",
    "- Idade: A idade média dos estudantes na matrícula é de aproximadamente 23 anos, sendo a idade mínima 17 anos e a idade máxima 70 anos.\n",
    "\n",
    "- Taxa de Desemprego: A taxa média de desemprego entre os estudantes é de cerca de 11.57%, com valores mínimo e máximo de 7.6% e 16.2%, respectivamente.\n",
    "\n",
    "- Taxa de Inflação: A taxa média de inflação é de 1.23%, com valores mínimo e máximo de -0.8% e 3.7%, respectivamente.\n",
    "\n",
    "- PIB: O PIB médio dos estudantes é muito baixo, com uma média próxima de 0, com valores mínimo e máximo de -4.06 e 3.5, respectivamente.\n",
    "\n",
    "- Desempenho Acadêmico: Os estudantes têm, em média, cerca de 6 disciplinas matriculadas por semestre, com média de notas de 10.64 no primeiro semestre e 10.23 no segundo semestre. A média de disciplinas aprovadas é maior no primeiro semestre (4.7) em comparação com o primeiro (4.43)"
   ]
  },
  {
   "cell_type": "code",
   "execution_count": 4,
   "metadata": {},
   "outputs": [
    {
     "data": {
      "text/html": [
       "<div>\n",
       "<style scoped>\n",
       "    .dataframe tbody tr th:only-of-type {\n",
       "        vertical-align: middle;\n",
       "    }\n",
       "\n",
       "    .dataframe tbody tr th {\n",
       "        vertical-align: top;\n",
       "    }\n",
       "\n",
       "    .dataframe thead th {\n",
       "        text-align: right;\n",
       "    }\n",
       "</style>\n",
       "<table border=\"1\" class=\"dataframe\">\n",
       "  <thead>\n",
       "    <tr style=\"text-align: right;\">\n",
       "      <th></th>\n",
       "      <th>Idade na matrícula</th>\n",
       "      <th>Taxa de desemprego</th>\n",
       "      <th>Taxa de inflação</th>\n",
       "      <th>PIB</th>\n",
       "      <th>disciplinas 1º semestre (creditadas)</th>\n",
       "      <th>disciplinas 1º semestre (matriculadas)</th>\n",
       "      <th>disciplinas 1º semestre (avaliações)</th>\n",
       "      <th>disciplinas 1º semestre (aprovadas)</th>\n",
       "      <th>disciplinas 1º semestre (notas)</th>\n",
       "      <th>disciplinas 1º semestre (sem avaliações)</th>\n",
       "      <th>disciplinas 2º semestre (creditadas)</th>\n",
       "      <th>disciplinas 2º semestre (matriculadas)</th>\n",
       "      <th>disciplinas 2º semestre (avaliações)</th>\n",
       "      <th>disciplinas 2º semestre (aprovadas)</th>\n",
       "      <th>disciplinas 2º semestre (notas)</th>\n",
       "      <th>disciplinas 2º semestre (sem avaliações)</th>\n",
       "    </tr>\n",
       "  </thead>\n",
       "  <tbody>\n",
       "    <tr>\n",
       "      <th>count</th>\n",
       "      <td>4424.000000</td>\n",
       "      <td>4424.000000</td>\n",
       "      <td>4424.000000</td>\n",
       "      <td>4424.000000</td>\n",
       "      <td>4424.000000</td>\n",
       "      <td>4424.000000</td>\n",
       "      <td>4424.000000</td>\n",
       "      <td>4424.000000</td>\n",
       "      <td>4424.000000</td>\n",
       "      <td>4424.000000</td>\n",
       "      <td>4424.000000</td>\n",
       "      <td>4424.000000</td>\n",
       "      <td>4424.000000</td>\n",
       "      <td>4424.000000</td>\n",
       "      <td>4424.000000</td>\n",
       "      <td>4424.000000</td>\n",
       "    </tr>\n",
       "    <tr>\n",
       "      <th>mean</th>\n",
       "      <td>23.265145</td>\n",
       "      <td>11.566139</td>\n",
       "      <td>1.228029</td>\n",
       "      <td>0.001969</td>\n",
       "      <td>0.709991</td>\n",
       "      <td>6.270570</td>\n",
       "      <td>8.299051</td>\n",
       "      <td>4.706600</td>\n",
       "      <td>10.640822</td>\n",
       "      <td>0.137658</td>\n",
       "      <td>0.541817</td>\n",
       "      <td>6.232143</td>\n",
       "      <td>8.063291</td>\n",
       "      <td>4.435805</td>\n",
       "      <td>10.230206</td>\n",
       "      <td>0.150316</td>\n",
       "    </tr>\n",
       "    <tr>\n",
       "      <th>std</th>\n",
       "      <td>7.587816</td>\n",
       "      <td>2.663850</td>\n",
       "      <td>1.382711</td>\n",
       "      <td>2.269935</td>\n",
       "      <td>2.360507</td>\n",
       "      <td>2.480178</td>\n",
       "      <td>4.179106</td>\n",
       "      <td>3.094238</td>\n",
       "      <td>4.843663</td>\n",
       "      <td>0.690880</td>\n",
       "      <td>1.918546</td>\n",
       "      <td>2.195951</td>\n",
       "      <td>3.947951</td>\n",
       "      <td>3.014764</td>\n",
       "      <td>5.210808</td>\n",
       "      <td>0.753774</td>\n",
       "    </tr>\n",
       "    <tr>\n",
       "      <th>min</th>\n",
       "      <td>17.000000</td>\n",
       "      <td>7.600000</td>\n",
       "      <td>-0.800000</td>\n",
       "      <td>-4.060000</td>\n",
       "      <td>0.000000</td>\n",
       "      <td>0.000000</td>\n",
       "      <td>0.000000</td>\n",
       "      <td>0.000000</td>\n",
       "      <td>0.000000</td>\n",
       "      <td>0.000000</td>\n",
       "      <td>0.000000</td>\n",
       "      <td>0.000000</td>\n",
       "      <td>0.000000</td>\n",
       "      <td>0.000000</td>\n",
       "      <td>0.000000</td>\n",
       "      <td>0.000000</td>\n",
       "    </tr>\n",
       "    <tr>\n",
       "      <th>25%</th>\n",
       "      <td>19.000000</td>\n",
       "      <td>9.400000</td>\n",
       "      <td>0.300000</td>\n",
       "      <td>-1.700000</td>\n",
       "      <td>0.000000</td>\n",
       "      <td>5.000000</td>\n",
       "      <td>6.000000</td>\n",
       "      <td>3.000000</td>\n",
       "      <td>11.000000</td>\n",
       "      <td>0.000000</td>\n",
       "      <td>0.000000</td>\n",
       "      <td>5.000000</td>\n",
       "      <td>6.000000</td>\n",
       "      <td>2.000000</td>\n",
       "      <td>10.750000</td>\n",
       "      <td>0.000000</td>\n",
       "    </tr>\n",
       "    <tr>\n",
       "      <th>50%</th>\n",
       "      <td>20.000000</td>\n",
       "      <td>11.100000</td>\n",
       "      <td>1.400000</td>\n",
       "      <td>0.320000</td>\n",
       "      <td>0.000000</td>\n",
       "      <td>6.000000</td>\n",
       "      <td>8.000000</td>\n",
       "      <td>5.000000</td>\n",
       "      <td>12.285714</td>\n",
       "      <td>0.000000</td>\n",
       "      <td>0.000000</td>\n",
       "      <td>6.000000</td>\n",
       "      <td>8.000000</td>\n",
       "      <td>5.000000</td>\n",
       "      <td>12.200000</td>\n",
       "      <td>0.000000</td>\n",
       "    </tr>\n",
       "    <tr>\n",
       "      <th>75%</th>\n",
       "      <td>25.000000</td>\n",
       "      <td>13.900000</td>\n",
       "      <td>2.600000</td>\n",
       "      <td>1.790000</td>\n",
       "      <td>0.000000</td>\n",
       "      <td>7.000000</td>\n",
       "      <td>10.000000</td>\n",
       "      <td>6.000000</td>\n",
       "      <td>13.400000</td>\n",
       "      <td>0.000000</td>\n",
       "      <td>0.000000</td>\n",
       "      <td>7.000000</td>\n",
       "      <td>10.000000</td>\n",
       "      <td>6.000000</td>\n",
       "      <td>13.333333</td>\n",
       "      <td>0.000000</td>\n",
       "    </tr>\n",
       "    <tr>\n",
       "      <th>max</th>\n",
       "      <td>70.000000</td>\n",
       "      <td>16.200000</td>\n",
       "      <td>3.700000</td>\n",
       "      <td>3.510000</td>\n",
       "      <td>20.000000</td>\n",
       "      <td>26.000000</td>\n",
       "      <td>45.000000</td>\n",
       "      <td>26.000000</td>\n",
       "      <td>18.875000</td>\n",
       "      <td>12.000000</td>\n",
       "      <td>19.000000</td>\n",
       "      <td>23.000000</td>\n",
       "      <td>33.000000</td>\n",
       "      <td>20.000000</td>\n",
       "      <td>18.571429</td>\n",
       "      <td>12.000000</td>\n",
       "    </tr>\n",
       "  </tbody>\n",
       "</table>\n",
       "</div>"
      ],
      "text/plain": [
       "       Idade na matrícula  Taxa de desemprego  Taxa de inflação          PIB  \\\n",
       "count         4424.000000         4424.000000       4424.000000  4424.000000   \n",
       "mean            23.265145           11.566139          1.228029     0.001969   \n",
       "std              7.587816            2.663850          1.382711     2.269935   \n",
       "min             17.000000            7.600000         -0.800000    -4.060000   \n",
       "25%             19.000000            9.400000          0.300000    -1.700000   \n",
       "50%             20.000000           11.100000          1.400000     0.320000   \n",
       "75%             25.000000           13.900000          2.600000     1.790000   \n",
       "max             70.000000           16.200000          3.700000     3.510000   \n",
       "\n",
       "       disciplinas 1º semestre (creditadas)  \\\n",
       "count                           4424.000000   \n",
       "mean                               0.709991   \n",
       "std                                2.360507   \n",
       "min                                0.000000   \n",
       "25%                                0.000000   \n",
       "50%                                0.000000   \n",
       "75%                                0.000000   \n",
       "max                               20.000000   \n",
       "\n",
       "       disciplinas 1º semestre (matriculadas)  \\\n",
       "count                             4424.000000   \n",
       "mean                                 6.270570   \n",
       "std                                  2.480178   \n",
       "min                                  0.000000   \n",
       "25%                                  5.000000   \n",
       "50%                                  6.000000   \n",
       "75%                                  7.000000   \n",
       "max                                 26.000000   \n",
       "\n",
       "       disciplinas 1º semestre (avaliações)  \\\n",
       "count                           4424.000000   \n",
       "mean                               8.299051   \n",
       "std                                4.179106   \n",
       "min                                0.000000   \n",
       "25%                                6.000000   \n",
       "50%                                8.000000   \n",
       "75%                               10.000000   \n",
       "max                               45.000000   \n",
       "\n",
       "       disciplinas 1º semestre (aprovadas)  disciplinas 1º semestre (notas)  \\\n",
       "count                          4424.000000                      4424.000000   \n",
       "mean                              4.706600                        10.640822   \n",
       "std                               3.094238                         4.843663   \n",
       "min                               0.000000                         0.000000   \n",
       "25%                               3.000000                        11.000000   \n",
       "50%                               5.000000                        12.285714   \n",
       "75%                               6.000000                        13.400000   \n",
       "max                              26.000000                        18.875000   \n",
       "\n",
       "       disciplinas 1º semestre (sem avaliações)  \\\n",
       "count                               4424.000000   \n",
       "mean                                   0.137658   \n",
       "std                                    0.690880   \n",
       "min                                    0.000000   \n",
       "25%                                    0.000000   \n",
       "50%                                    0.000000   \n",
       "75%                                    0.000000   \n",
       "max                                   12.000000   \n",
       "\n",
       "       disciplinas 2º semestre (creditadas)  \\\n",
       "count                           4424.000000   \n",
       "mean                               0.541817   \n",
       "std                                1.918546   \n",
       "min                                0.000000   \n",
       "25%                                0.000000   \n",
       "50%                                0.000000   \n",
       "75%                                0.000000   \n",
       "max                               19.000000   \n",
       "\n",
       "       disciplinas 2º semestre (matriculadas)  \\\n",
       "count                             4424.000000   \n",
       "mean                                 6.232143   \n",
       "std                                  2.195951   \n",
       "min                                  0.000000   \n",
       "25%                                  5.000000   \n",
       "50%                                  6.000000   \n",
       "75%                                  7.000000   \n",
       "max                                 23.000000   \n",
       "\n",
       "       disciplinas 2º semestre (avaliações)  \\\n",
       "count                           4424.000000   \n",
       "mean                               8.063291   \n",
       "std                                3.947951   \n",
       "min                                0.000000   \n",
       "25%                                6.000000   \n",
       "50%                                8.000000   \n",
       "75%                               10.000000   \n",
       "max                               33.000000   \n",
       "\n",
       "       disciplinas 2º semestre (aprovadas)  disciplinas 2º semestre (notas)  \\\n",
       "count                          4424.000000                      4424.000000   \n",
       "mean                              4.435805                        10.230206   \n",
       "std                               3.014764                         5.210808   \n",
       "min                               0.000000                         0.000000   \n",
       "25%                               2.000000                        10.750000   \n",
       "50%                               5.000000                        12.200000   \n",
       "75%                               6.000000                        13.333333   \n",
       "max                              20.000000                        18.571429   \n",
       "\n",
       "       disciplinas 2º semestre (sem avaliações)  \n",
       "count                               4424.000000  \n",
       "mean                                   0.150316  \n",
       "std                                    0.753774  \n",
       "min                                    0.000000  \n",
       "25%                                    0.000000  \n",
       "50%                                    0.000000  \n",
       "75%                                    0.000000  \n",
       "max                                   12.000000  "
      ]
     },
     "execution_count": 4,
     "metadata": {},
     "output_type": "execute_result"
    }
   ],
   "source": [
    "dados.describe()"
   ]
  },
  {
   "cell_type": "markdown",
   "metadata": {},
   "source": [
    "### Análise de colunas categóricas\n",
    "\n",
    "A maioria dos estudantes é solteiro, do sexo feminino, não-estrangeiro e não possui necessidades educacionais especiais. A maior parte não é devedora, está com as taxas de matrícula em dia e não é bolsista. O curso mais comum é Enfermagem e a maioria dos estudantes está no período diurno. Em relação a qualificação prévia, a maioria possui em educação secundária (ensino médio). Quanto ao status \"target\", a maioria dos estudantes estão como graduados."
   ]
  },
  {
   "cell_type": "code",
   "execution_count": 5,
   "metadata": {},
   "outputs": [
    {
     "data": {
      "text/html": [
       "<div>\n",
       "<style scoped>\n",
       "    .dataframe tbody tr th:only-of-type {\n",
       "        vertical-align: middle;\n",
       "    }\n",
       "\n",
       "    .dataframe tbody tr th {\n",
       "        vertical-align: top;\n",
       "    }\n",
       "\n",
       "    .dataframe thead th {\n",
       "        text-align: right;\n",
       "    }\n",
       "</style>\n",
       "<table border=\"1\" class=\"dataframe\">\n",
       "  <thead>\n",
       "    <tr style=\"text-align: right;\">\n",
       "      <th></th>\n",
       "      <th>Estado civil</th>\n",
       "      <th>Migração</th>\n",
       "      <th>Sexo</th>\n",
       "      <th>Estrangeiro</th>\n",
       "      <th>Necessidades educacionais especiais</th>\n",
       "      <th>Devedor</th>\n",
       "      <th>Taxas de matrícula em dia</th>\n",
       "      <th>Bolsista</th>\n",
       "      <th>Curso</th>\n",
       "      <th>Período</th>\n",
       "      <th>Qualificação prévia</th>\n",
       "      <th>Target</th>\n",
       "    </tr>\n",
       "  </thead>\n",
       "  <tbody>\n",
       "    <tr>\n",
       "      <th>count</th>\n",
       "      <td>4424</td>\n",
       "      <td>4424</td>\n",
       "      <td>4424</td>\n",
       "      <td>4424</td>\n",
       "      <td>4424</td>\n",
       "      <td>4424</td>\n",
       "      <td>4424</td>\n",
       "      <td>4424</td>\n",
       "      <td>4424</td>\n",
       "      <td>4424</td>\n",
       "      <td>4424</td>\n",
       "      <td>4424</td>\n",
       "    </tr>\n",
       "    <tr>\n",
       "      <th>unique</th>\n",
       "      <td>6</td>\n",
       "      <td>2</td>\n",
       "      <td>2</td>\n",
       "      <td>2</td>\n",
       "      <td>2</td>\n",
       "      <td>2</td>\n",
       "      <td>2</td>\n",
       "      <td>2</td>\n",
       "      <td>17</td>\n",
       "      <td>2</td>\n",
       "      <td>17</td>\n",
       "      <td>3</td>\n",
       "    </tr>\n",
       "    <tr>\n",
       "      <th>top</th>\n",
       "      <td>Solteiro</td>\n",
       "      <td>Sim</td>\n",
       "      <td>Feminino</td>\n",
       "      <td>Não</td>\n",
       "      <td>Não</td>\n",
       "      <td>Não</td>\n",
       "      <td>Sim</td>\n",
       "      <td>Não</td>\n",
       "      <td>Enfermagem</td>\n",
       "      <td>Diurno</td>\n",
       "      <td>Educação secundária</td>\n",
       "      <td>Graduado</td>\n",
       "    </tr>\n",
       "    <tr>\n",
       "      <th>freq</th>\n",
       "      <td>3919</td>\n",
       "      <td>2426</td>\n",
       "      <td>2868</td>\n",
       "      <td>4314</td>\n",
       "      <td>4373</td>\n",
       "      <td>3921</td>\n",
       "      <td>3896</td>\n",
       "      <td>3325</td>\n",
       "      <td>766</td>\n",
       "      <td>3941</td>\n",
       "      <td>3717</td>\n",
       "      <td>2209</td>\n",
       "    </tr>\n",
       "  </tbody>\n",
       "</table>\n",
       "</div>"
      ],
      "text/plain": [
       "       Estado civil Migração      Sexo Estrangeiro  \\\n",
       "count          4424     4424      4424        4424   \n",
       "unique            6        2         2           2   \n",
       "top        Solteiro      Sim  Feminino         Não   \n",
       "freq           3919     2426      2868        4314   \n",
       "\n",
       "       Necessidades educacionais especiais Devedor Taxas de matrícula em dia  \\\n",
       "count                                 4424    4424                      4424   \n",
       "unique                                   2       2                         2   \n",
       "top                                    Não     Não                       Sim   \n",
       "freq                                  4373    3921                      3896   \n",
       "\n",
       "       Bolsista       Curso Período  Qualificação prévia    Target  \n",
       "count      4424        4424    4424                 4424      4424  \n",
       "unique        2          17       2                   17         3  \n",
       "top         Não  Enfermagem  Diurno  Educação secundária  Graduado  \n",
       "freq       3325         766    3941                 3717      2209  "
      ]
     },
     "execution_count": 5,
     "metadata": {},
     "output_type": "execute_result"
    }
   ],
   "source": [
    "dados.describe(include='object', exclude='number')"
   ]
  },
  {
   "cell_type": "markdown",
   "metadata": {},
   "source": [
    "## Análise Exploratória - Dados demográficos\n",
    "\n",
    "### Estado civil\n",
    "Podemos observar abaixo que a maioria é solteiro (88%). Em seguida, tem mais pessoas casadas (8,5%) e divorciadas (2%)."
   ]
  },
  {
   "cell_type": "code",
   "execution_count": 6,
   "metadata": {},
   "outputs": [
    {
     "data": {
      "text/plain": [
       "Estado civil\n",
       "Solteiro               88.584991\n",
       "Casado                  8.566908\n",
       "Divorciado              2.056962\n",
       "União Estável           0.565099\n",
       "Legalmente Separado     0.135624\n",
       "Viúvo                   0.090416\n",
       "Name: proportion, dtype: float64"
      ]
     },
     "execution_count": 6,
     "metadata": {},
     "output_type": "execute_result"
    }
   ],
   "source": [
    "dados['Estado civil'].value_counts(normalize=True) * 100"
   ]
  },
  {
   "cell_type": "markdown",
   "metadata": {},
   "source": [
    "### Idade na matrícula\n",
    "\n",
    "No gráfico abaixo, é notável que a maioria das pessoas que realizaram a matrícula tem menos de 20 anos. À medida que as idades avançam, observamos uma diminuição gradual no número de indivíduos."
   ]
  },
  {
   "cell_type": "code",
   "execution_count": 7,
   "metadata": {},
   "outputs": [
    {
     "data": {
      "image/png": "[encoded data removed]",
      "text/plain": [
       "<Figure size 500x500 with 1 Axes>"
      ]
     },
     "metadata": {},
     "output_type": "display_data"
    }
   ],
   "source": [
    "sns.displot(dados, x='Idade na matrícula', bins=20)\n",
    "plt.title('Distribuição da idade na matrícula')\n",
    "plt.show()"
   ]
  },
  {
   "cell_type": "markdown",
   "metadata": {},
   "source": [
    "### Idade na matrícula x Situação\n",
    "\n",
    "À medida que a idade aumenta, observamos que a proporção de desistentes se torna significativamente maior. Nota-se que, aos 20 anos, as distribuições são bastante semelhantes entre todas as categorias (desistentes, graduando e matriculado), enquanto a área destinada aos desistentes aumenta substancialmente quando a idade avança."
   ]
  },
  {
   "cell_type": "code",
   "execution_count": 8,
   "metadata": {},
   "outputs": [
    {
     "data": {
      "image/png": "[encoded data removed]",
      "text/plain": [
       "<Figure size 632x500 with 1 Axes>"
      ]
     },
     "metadata": {},
     "output_type": "display_data"
    }
   ],
   "source": [
    "color_dict = {'Desistente': '#e34c42', 'Graduado': '#4dc471', 'Matriculado': '#3b71db'}\n",
    "sns.set_palette(list(color_dict.values()))\n",
    "\n",
    "sns.displot(dados, x='Idade na matrícula', hue='Target', kind='kde', fill=True)\n",
    "plt.show()"
   ]
  },
  {
   "cell_type": "markdown",
   "metadata": {},
   "source": [
    "### Estrangeiro\n",
    "\n",
    "A maioria dos estudantes não são estrangeiros (97,5%), ou seja, tem mais estudantes nativos."
   ]
  },
  {
   "cell_type": "code",
   "execution_count": 9,
   "metadata": {},
   "outputs": [
    {
     "data": {
      "text/plain": [
       "Estrangeiro\n",
       "Não    97.513562\n",
       "Sim     2.486438\n",
       "Name: proportion, dtype: float64"
      ]
     },
     "execution_count": 9,
     "metadata": {},
     "output_type": "execute_result"
    }
   ],
   "source": [
    "dados['Estrangeiro'].value_counts(normalize=True) * 100"
   ]
  },
  {
   "cell_type": "markdown",
   "metadata": {},
   "source": [
    "### Sexo\n",
    "\n",
    "Quanto ao sexo, há mais estudantes do sexo feminino (64,8%)."
   ]
  },
  {
   "cell_type": "code",
   "execution_count": 10,
   "metadata": {},
   "outputs": [
    {
     "data": {
      "text/plain": [
       "Sexo\n",
       "Feminino     64.82821\n",
       "Masculino    35.17179\n",
       "Name: proportion, dtype: float64"
      ]
     },
     "execution_count": 10,
     "metadata": {},
     "output_type": "execute_result"
    }
   ],
   "source": [
    "dados['Sexo'].value_counts(normalize=True) * 100"
   ]
  },
  {
   "cell_type": "markdown",
   "metadata": {},
   "source": [
    "### Sexo x Situação\n",
    "\n",
    "No gráfico abaixo, podemos observar que a maioria dos estudantes do sexo masculino encontra-se na categoria de desistentes, seguida pelos graduados, e por último, pelos matriculados.\n",
    "Quanto as pessoas de sexo feminino, a quantidade de desistentes é menor que a de graduados. Por fim, temos os matriculados. A barra de graduados é a maior de todas."
   ]
  },
  {
   "cell_type": "code",
   "execution_count": 11,
   "metadata": {},
   "outputs": [
    {
     "data": {
      "image/png": "[encoded data removed]",
      "text/plain": [
       "<Figure size 640x480 with 1 Axes>"
      ]
     },
     "metadata": {},
     "output_type": "display_data"
    }
   ],
   "source": [
    "sns.countplot(data=dados, x='Sexo', hue='Target')\n",
    "plt.show()"
   ]
  },
  {
   "cell_type": "markdown",
   "metadata": {},
   "source": [
    "## Análise Exploratória - Dados socioeconômicos\n",
    "\n",
    "### Devedor x Situação\n",
    "Podemos observar que os não-devedores, a quantidade de desistentes atinge um valor um pouco acima de 1000 e há praticamente o dobro de graduados.\n",
    "Quanto os devedores, tem mais desistentes em comparação aos graduados e matriculados, o que indica que a falta de recursos financeiros pode ser uma das principais razões para o abandono dos cursos."
   ]
  },
  {
   "cell_type": "code",
   "execution_count": 12,
   "metadata": {},
   "outputs": [
    {
     "data": {
      "image/png": "[encoded data removed]",
      "text/plain": [
       "<Figure size 640x480 with 1 Axes>"
      ]
     },
     "metadata": {},
     "output_type": "display_data"
    }
   ],
   "source": [
    "sns.countplot(data=dados, x='Devedor', hue='Target')\n",
    "plt.show()"
   ]
  },
  {
   "cell_type": "markdown",
   "metadata": {},
   "source": [
    "### Taxas de matrícula em dia x Situação\n",
    "Semelhante ao gráfico anterior, quando as taxas de matrícula estão atualizadas, a maioria das pessoas se apresenta como graduadas e quando as taxas de matrícula não estão em dia, a maior proporção se refere às pessoas que desistiram."
   ]
  },
  {
   "cell_type": "code",
   "execution_count": 13,
   "metadata": {},
   "outputs": [
    {
     "data": {
      "image/png": "[encoded data removed]",
      "text/plain": [
       "<Figure size 640x480 with 1 Axes>"
      ]
     },
     "metadata": {},
     "output_type": "display_data"
    }
   ],
   "source": [
    "sns.countplot(data=dados, x='Taxas de matrícula em dia', hue='Target')\n",
    "plt.show()"
   ]
  },
  {
   "cell_type": "markdown",
   "metadata": {},
   "source": [
    "### Bolsista x Situação\n",
    "\n",
    "Quando uma pessoa não recebe bolsa de estudos, observamos que o número de desistentes e formandos é semelhante, enquanto a menor coluna representa os matriculados. Quanto os bolsistas, ou seja, está recebendo auxílio financeiro para os estudos, a barra mais alta corresponde às pessoas que estão se formando e são poucas desistências."
   ]
  },
  {
   "cell_type": "code",
   "execution_count": 14,
   "metadata": {},
   "outputs": [
    {
     "data": {
      "image/png": "[encoded data removed]",
      "text/plain": [
       "<Figure size 640x480 with 1 Axes>"
      ]
     },
     "metadata": {},
     "output_type": "display_data"
    }
   ],
   "source": [
    "sns.countplot(data=dados, x='Bolsista', hue='Target')\n",
    "plt.show()"
   ]
  },
  {
   "cell_type": "markdown",
   "metadata": {},
   "source": [
    "Ao realizar análise dos dados socioeconômicos, é notável que o aspecto econômico pode estar fortemente relacionado à taxa de evasão escolar."
   ]
  },
  {
   "cell_type": "markdown",
   "metadata": {},
   "source": [
    "## Análise Exploratória - Dados no momento da matrícula"
   ]
  },
  {
   "cell_type": "markdown",
   "metadata": {},
   "source": [
    "### Curso x Situação\n",
    "\n",
    "No gráfico abaixo podemos analisar que os cursos como Zootecnia, Tecnologias de Produção e Biocombustíveis, Engenharia da computação tem mais de 50% de desistentes. Alguns cursos como Serviço Social (diurno e noturno), Jornalismo, Enfermagem veterinária e Enfermagem tem mais de 50% de graduados."
   ]
  },
  {
   "cell_type": "code",
   "execution_count": 15,
   "metadata": {},
   "outputs": [
    {
     "data": {
      "application/vnd.plotly.v1+json": {
       "config": {
        "plotlyServerURL": "https://plot.ly"
       },
       "data": [
        {
         "alignmentgroup": "True",
         "hovertemplate": "Target=Desistente<br>Porcentagem=%{x}<br>Curso=%{y}<extra></extra>",
         "legendgroup": "Desistente",
         "marker": {
          "color": "#e34c42",
          "pattern": {
           "shape": ""
          }
         },
         "name": "Desistente",
         "offsetgroup": "Desistente",
         "orientation": "h",
         "showlegend": true,
         "textposition": "auto",
         "type": "bar",
         "x": [
          40.95238095238095,
          38.139534883720934,
          22.566371681415927,
          44.27083333333333,
          15.404699738903393,
          26.706231454005934,
          54.11764705882353,
          35.26315789473684,
          50.74626865671642,
          35.44776119402985,
          30.513595166163142,
          38.372093023255815,
          18.30985915492958,
          33.02325581395349,
          66.66666666666666,
          38.095238095238095,
          55.319148936170215
         ],
         "xaxis": "x",
         "y": [
          "Agronomia",
          "Animação e Design Multimídia",
          "Design de Comunicação",
          "Educação Básica",
          "Enfermagem",
          "Enfermagem Veterinária",
          "Engenharia da computação",
          "Gestão",
          "Gestão (noturno)",
          "Gestão de Publicidade e Marketing",
          "Jornalismo e Comunicação",
          "Odontologia",
          "Serviço Social",
          "Serviço Social (noturno)",
          "Tecnologias de Produção de Biocombustíveis",
          "Turismo",
          "Zootecnia"
         ],
         "yaxis": "y"
        },
        {
         "alignmentgroup": "True",
         "hovertemplate": "Target=Graduado<br>Porcentagem=%{x}<br>Curso=%{y}<extra></extra>",
         "legendgroup": "Graduado",
         "marker": {
          "color": "#4dc471",
          "pattern": {
           "shape": ""
          }
         },
         "name": "Graduado",
         "offsetgroup": "Graduado",
         "orientation": "h",
         "showlegend": true,
         "textposition": "auto",
         "type": "bar",
         "x": [
          41.42857142857143,
          44.651162790697676,
          58.849557522123895,
          29.6875,
          71.54046997389034,
          51.038575667655785,
          8.235294117647058,
          36.31578947368421,
          29.1044776119403,
          46.64179104477612,
          59.21450151057401,
          41.86046511627907,
          69.85915492957746,
          57.20930232558139,
          8.333333333333332,
          45.63492063492063,
          29.78723404255319
         ],
         "xaxis": "x",
         "y": [
          "Agronomia",
          "Animação e Design Multimídia",
          "Design de Comunicação",
          "Educação Básica",
          "Enfermagem",
          "Enfermagem Veterinária",
          "Engenharia da computação",
          "Gestão",
          "Gestão (noturno)",
          "Gestão de Publicidade e Marketing",
          "Jornalismo e Comunicação",
          "Odontologia",
          "Serviço Social",
          "Serviço Social (noturno)",
          "Tecnologias de Produção de Biocombustíveis",
          "Turismo",
          "Zootecnia"
         ],
         "yaxis": "y"
        },
        {
         "alignmentgroup": "True",
         "hovertemplate": "Target=Matriculado<br>Porcentagem=%{x}<br>Curso=%{y}<extra></extra>",
         "legendgroup": "Matriculado",
         "marker": {
          "color": "#3b71db",
          "pattern": {
           "shape": ""
          }
         },
         "name": "Matriculado",
         "offsetgroup": "Matriculado",
         "orientation": "h",
         "showlegend": true,
         "textposition": "auto",
         "type": "bar",
         "x": [
          17.61904761904762,
          17.209302325581397,
          18.58407079646018,
          26.041666666666668,
          13.054830287206268,
          22.255192878338278,
          37.64705882352941,
          28.421052631578945,
          20.149253731343283,
          17.91044776119403,
          10.27190332326284,
          19.767441860465116,
          11.830985915492958,
          9.767441860465116,
          25,
          16.26984126984127,
          14.893617021276595
         ],
         "xaxis": "x",
         "y": [
          "Agronomia",
          "Animação e Design Multimídia",
          "Design de Comunicação",
          "Educação Básica",
          "Enfermagem",
          "Enfermagem Veterinária",
          "Engenharia da computação",
          "Gestão",
          "Gestão (noturno)",
          "Gestão de Publicidade e Marketing",
          "Jornalismo e Comunicação",
          "Odontologia",
          "Serviço Social",
          "Serviço Social (noturno)",
          "Tecnologias de Produção de Biocombustíveis",
          "Turismo",
          "Zootecnia"
         ],
         "yaxis": "y"
        }
       ],
       "layout": {
        "barmode": "relative",
        "legend": {
         "title": {
          "text": "Target"
         },
         "tracegroupgap": 0
        },
        "margin": {
         "t": 60
        },
        "template": {
         "data": {
          "bar": [
           {
            "error_x": {
             "color": "#2a3f5f"
            },
            "error_y": {
             "color": "#2a3f5f"
            },
            "marker": {
             "line": {
              "color": "#E5ECF6",
              "width": 0.5
             },
             "pattern": {
              "fillmode": "overlay",
              "size": 10,
              "solidity": 0.2
             }
            },
            "type": "bar"
           }
          ],
          "barpolar": [
           {
            "marker": {
             "line": {
              "color": "#E5ECF6",
              "width": 0.5
             },
             "pattern": {
              "fillmode": "overlay",
              "size": 10,
              "solidity": 0.2
             }
            },
            "type": "barpolar"
           }
          ],
          "carpet": [
           {
            "aaxis": {
             "endlinecolor": "#2a3f5f",
             "gridcolor": "white",
             "linecolor": "white",
             "minorgridcolor": "white",
             "startlinecolor": "#2a3f5f"
            },
            "baxis": {
             "endlinecolor": "#2a3f5f",
             "gridcolor": "white",
             "linecolor": "white",
             "minorgridcolor": "white",
             "startlinecolor": "#2a3f5f"
            },
            "type": "carpet"
           }
          ],
          "choropleth": [
           {
            "colorbar": {
             "outlinewidth": 0,
             "ticks": ""
            },
            "type": "choropleth"
           }
          ],
          "contour": [
           {
            "colorbar": {
             "outlinewidth": 0,
             "ticks": ""
            },
            "colorscale": [
             [
              0,
              "#0d0887"
             ],
             [
              0.1111111111111111,
              "#46039f"
             ],
             [
              0.2222222222222222,
              "#7201a8"
             ],
             [
              0.3333333333333333,
              "#9c179e"
             ],
             [
              0.4444444444444444,
              "#bd3786"
             ],
             [
              0.5555555555555556,
              "#d8576b"
             ],
             [
              0.6666666666666666,
              "#ed7953"
             ],
             [
              0.7777777777777778,
              "#fb9f3a"
             ],
             [
              0.8888888888888888,
              "#fdca26"
             ],
             [
              1,
              "#f0f921"
             ]
            ],
            "type": "contour"
           }
          ],
          "contourcarpet": [
           {
            "colorbar": {
             "outlinewidth": 0,
             "ticks": ""
            },
            "type": "contourcarpet"
           }
          ],
          "heatmap": [
           {
            "colorbar": {
             "outlinewidth": 0,
             "ticks": ""
            },
            "colorscale": [
             [
              0,
              "#0d0887"
             ],
             [
              0.1111111111111111,
              "#46039f"
             ],
             [
              0.2222222222222222,
              "#7201a8"
             ],
             [
              0.3333333333333333,
              "#9c179e"
             ],
             [
              0.4444444444444444,
              "#bd3786"
             ],
             [
              0.5555555555555556,
              "#d8576b"
             ],
             [
              0.6666666666666666,
              "#ed7953"
             ],
             [
              0.7777777777777778,
              "#fb9f3a"
             ],
             [
              0.8888888888888888,
              "#fdca26"
             ],
             [
              1,
              "#f0f921"
             ]
            ],
            "type": "heatmap"
           }
          ],
          "heatmapgl": [
           {
            "colorbar": {
             "outlinewidth": 0,
             "ticks": ""
            },
            "colorscale": [
             [
              0,
              "#0d0887"
             ],
             [
              0.1111111111111111,
              "#46039f"
             ],
             [
              0.2222222222222222,
              "#7201a8"
             ],
             [
              0.3333333333333333,
              "#9c179e"
             ],
             [
              0.4444444444444444,
              "#bd3786"
             ],
             [
              0.5555555555555556,
              "#d8576b"
             ],
             [
              0.6666666666666666,
              "#ed7953"
             ],
             [
              0.7777777777777778,
              "#fb9f3a"
             ],
             [
              0.8888888888888888,
              "#fdca26"
             ],
             [
              1,
              "#f0f921"
             ]
            ],
            "type": "heatmapgl"
           }
          ],
          "histogram": [
           {
            "marker": {
             "pattern": {
              "fillmode": "overlay",
              "size": 10,
              "solidity": 0.2
             }
            },
            "type": "histogram"
           }
          ],
          "histogram2d": [
           {
            "colorbar": {
             "outlinewidth": 0,
             "ticks": ""
            },
            "colorscale": [
             [
              0,
              "#0d0887"
             ],
             [
              0.1111111111111111,
              "#46039f"
             ],
             [
              0.2222222222222222,
              "#7201a8"
             ],
             [
              0.3333333333333333,
              "#9c179e"
             ],
             [
              0.4444444444444444,
              "#bd3786"
             ],
             [
              0.5555555555555556,
              "#d8576b"
             ],
             [
              0.6666666666666666,
              "#ed7953"
             ],
             [
              0.7777777777777778,
              "#fb9f3a"
             ],
             [
              0.8888888888888888,
              "#fdca26"
             ],
             [
              1,
              "#f0f921"
             ]
            ],
            "type": "histogram2d"
           }
          ],
          "histogram2dcontour": [
           {
            "colorbar": {
             "outlinewidth": 0,
             "ticks": ""
            },
            "colorscale": [
             [
              0,
              "#0d0887"
             ],
             [
              0.1111111111111111,
              "#46039f"
             ],
             [
              0.2222222222222222,
              "#7201a8"
             ],
             [
              0.3333333333333333,
              "#9c179e"
             ],
             [
              0.4444444444444444,
              "#bd3786"
             ],
             [
              0.5555555555555556,
              "#d8576b"
             ],
             [
              0.6666666666666666,
              "#ed7953"
             ],
             [
              0.7777777777777778,
              "#fb9f3a"
             ],
             [
              0.8888888888888888,
              "#fdca26"
             ],
             [
              1,
              "#f0f921"
             ]
            ],
            "type": "histogram2dcontour"
           }
          ],
          "mesh3d": [
           {
            "colorbar": {
             "outlinewidth": 0,
             "ticks": ""
            },
            "type": "mesh3d"
           }
          ],
          "parcoords": [
           {
            "line": {
             "colorbar": {
              "outlinewidth": 0,
              "ticks": ""
             }
            },
            "type": "parcoords"
           }
          ],
          "pie": [
           {
            "automargin": true,
            "type": "pie"
           }
          ],
          "scatter": [
           {
            "fillpattern": {
             "fillmode": "overlay",
             "size": 10,
             "solidity": 0.2
            },
            "type": "scatter"
           }
          ],
          "scatter3d": [
           {
            "line": {
             "colorbar": {
              "outlinewidth": 0,
              "ticks": ""
             }
            },
            "marker": {
             "colorbar": {
              "outlinewidth": 0,
              "ticks": ""
             }
            },
            "type": "scatter3d"
           }
          ],
          "scattercarpet": [
           {
            "marker": {
             "colorbar": {
              "outlinewidth": 0,
              "ticks": ""
             }
            },
            "type": "scattercarpet"
           }
          ],
          "scattergeo": [
           {
            "marker": {
             "colorbar": {
              "outlinewidth": 0,
              "ticks": ""
             }
            },
            "type": "scattergeo"
           }
          ],
          "scattergl": [
           {
            "marker": {
             "colorbar": {
              "outlinewidth": 0,
              "ticks": ""
             }
            },
            "type": "scattergl"
           }
          ],
          "scattermapbox": [
           {
            "marker": {
             "colorbar": {
              "outlinewidth": 0,
              "ticks": ""
             }
            },
            "type": "scattermapbox"
           }
          ],
          "scatterpolar": [
           {
            "marker": {
             "colorbar": {
              "outlinewidth": 0,
              "ticks": ""
             }
            },
            "type": "scatterpolar"
           }
          ],
          "scatterpolargl": [
           {
            "marker": {
             "colorbar": {
              "outlinewidth": 0,
              "ticks": ""
             }
            },
            "type": "scatterpolargl"
           }
          ],
          "scatterternary": [
           {
            "marker": {
             "colorbar": {
              "outlinewidth": 0,
              "ticks": ""
             }
            },
            "type": "scatterternary"
           }
          ],
          "surface": [
           {
            "colorbar": {
             "outlinewidth": 0,
             "ticks": ""
            },
            "colorscale": [
             [
              0,
              "#0d0887"
             ],
             [
              0.1111111111111111,
              "#46039f"
             ],
             [
              0.2222222222222222,
              "#7201a8"
             ],
             [
              0.3333333333333333,
              "#9c179e"
             ],
             [
              0.4444444444444444,
              "#bd3786"
             ],
             [
              0.5555555555555556,
              "#d8576b"
             ],
             [
              0.6666666666666666,
              "#ed7953"
             ],
             [
              0.7777777777777778,
              "#fb9f3a"
             ],
             [
              0.8888888888888888,
              "#fdca26"
             ],
             [
              1,
              "#f0f921"
             ]
            ],
            "type": "surface"
           }
          ],
          "table": [
           {
            "cells": {
             "fill": {
              "color": "#EBF0F8"
             },
             "line": {
              "color": "white"
             }
            },
            "header": {
             "fill": {
              "color": "#C8D4E3"
             },
             "line": {
              "color": "white"
             }
            },
            "type": "table"
           }
          ]
         },
         "layout": {
          "annotationdefaults": {
           "arrowcolor": "#2a3f5f",
           "arrowhead": 0,
           "arrowwidth": 1
          },
          "autotypenumbers": "strict",
          "coloraxis": {
           "colorbar": {
            "outlinewidth": 0,
            "ticks": ""
           }
          },
          "colorscale": {
           "diverging": [
            [
             0,
             "#8e0152"
            ],
            [
             0.1,
             "#c51b7d"
            ],
            [
             0.2,
             "#de77ae"
            ],
            [
             0.3,
             "#f1b6da"
            ],
            [
             0.4,
             "#fde0ef"
            ],
            [
             0.5,
             "#f7f7f7"
            ],
            [
             0.6,
             "#e6f5d0"
            ],
            [
             0.7,
             "#b8e186"
            ],
            [
             0.8,
             "#7fbc41"
            ],
            [
             0.9,
             "#4d9221"
            ],
            [
             1,
             "#276419"
            ]
           ],
           "sequential": [
            [
             0,
             "#0d0887"
            ],
            [
             0.1111111111111111,
             "#46039f"
            ],
            [
             0.2222222222222222,
             "#7201a8"
            ],
            [
             0.3333333333333333,
             "#9c179e"
            ],
            [
             0.4444444444444444,
             "#bd3786"
            ],
            [
             0.5555555555555556,
             "#d8576b"
            ],
            [
             0.6666666666666666,
             "#ed7953"
            ],
            [
             0.7777777777777778,
             "#fb9f3a"
            ],
            [
             0.8888888888888888,
             "#fdca26"
            ],
            [
             1,
             "#f0f921"
            ]
           ],
           "sequentialminus": [
            [
             0,
             "#0d0887"
            ],
            [
             0.1111111111111111,
             "#46039f"
            ],
            [
             0.2222222222222222,
             "#7201a8"
            ],
            [
             0.3333333333333333,
             "#9c179e"
            ],
            [
             0.4444444444444444,
             "#bd3786"
            ],
            [
             0.5555555555555556,
             "#d8576b"
            ],
            [
             0.6666666666666666,
             "#ed7953"
            ],
            [
             0.7777777777777778,
             "#fb9f3a"
            ],
            [
             0.8888888888888888,
             "#fdca26"
            ],
            [
             1,
             "#f0f921"
            ]
           ]
          },
          "colorway": [
           "#636efa",
           "#EF553B",
           "#00cc96",
           "#ab63fa",
           "#FFA15A",
           "#19d3f3",
           "#FF6692",
           "#B6E880",
           "#FF97FF",
           "#FECB52"
          ],
          "font": {
           "color": "#2a3f5f"
          },
          "geo": {
           "bgcolor": "white",
           "lakecolor": "white",
           "landcolor": "#E5ECF6",
           "showlakes": true,
           "showland": true,
           "subunitcolor": "white"
          },
          "hoverlabel": {
           "align": "left"
          },
          "hovermode": "closest",
          "mapbox": {
           "style": "light"
          },
          "paper_bgcolor": "white",
          "plot_bgcolor": "#E5ECF6",
          "polar": {
           "angularaxis": {
            "gridcolor": "white",
            "linecolor": "white",
            "ticks": ""
           },
           "bgcolor": "#E5ECF6",
           "radialaxis": {
            "gridcolor": "white",
            "linecolor": "white",
            "ticks": ""
           }
          },
          "scene": {
           "xaxis": {
            "backgroundcolor": "#E5ECF6",
            "gridcolor": "white",
            "gridwidth": 2,
            "linecolor": "white",
            "showbackground": true,
            "ticks": "",
            "zerolinecolor": "white"
           },
           "yaxis": {
            "backgroundcolor": "#E5ECF6",
            "gridcolor": "white",
            "gridwidth": 2,
            "linecolor": "white",
            "showbackground": true,
            "ticks": "",
            "zerolinecolor": "white"
           },
           "zaxis": {
            "backgroundcolor": "#E5ECF6",
            "gridcolor": "white",
            "gridwidth": 2,
            "linecolor": "white",
            "showbackground": true,
            "ticks": "",
            "zerolinecolor": "white"
           }
          },
          "shapedefaults": {
           "line": {
            "color": "#2a3f5f"
           }
          },
          "ternary": {
           "aaxis": {
            "gridcolor": "white",
            "linecolor": "white",
            "ticks": ""
           },
           "baxis": {
            "gridcolor": "white",
            "linecolor": "white",
            "ticks": ""
           },
           "bgcolor": "#E5ECF6",
           "caxis": {
            "gridcolor": "white",
            "linecolor": "white",
            "ticks": ""
           }
          },
          "title": {
           "x": 0.05
          },
          "xaxis": {
           "automargin": true,
           "gridcolor": "white",
           "linecolor": "white",
           "ticks": "",
           "title": {
            "standoff": 15
           },
           "zerolinecolor": "white",
           "zerolinewidth": 2
          },
          "yaxis": {
           "automargin": true,
           "gridcolor": "white",
           "linecolor": "white",
           "ticks": "",
           "title": {
            "standoff": 15
           },
           "zerolinecolor": "white",
           "zerolinewidth": 2
          }
         }
        },
        "xaxis": {
         "anchor": "y",
         "domain": [
          0,
          1
         ],
         "title": {
          "text": "Porcentagem"
         }
        },
        "yaxis": {
         "anchor": "x",
         "domain": [
          0,
          1
         ],
         "title": {
          "text": "Curso"
         }
        }
       }
      }
     },
     "metadata": {},
     "output_type": "display_data"
    }
   ],
   "source": [
    "contagem = dados.groupby(['Curso', 'Target']).size().reset_index(name='Contagem')\n",
    "contagem['Porcentagem'] = contagem.groupby('Curso')['Contagem'].transform(lambda x: x / x.sum() * 100)\n",
    "\n",
    "fig = px.bar(contagem, x='Porcentagem', y='Curso', color='Target', orientation='h',\n",
    "             color_discrete_map=color_dict,)\n",
    "\n",
    "fig.show()"
   ]
  },
  {
   "cell_type": "markdown",
   "metadata": {},
   "source": [
    "## Análise Exploratória - Dados acadêmicos\n",
    "\n",
    "Ao analisar o boxplot, podemos notar que as notas dos graduados e matrículados têm uma semelhança, enquanto as notas baixas podem influenciar na desistência. Porém, por os dados estarem desbalanceados, trataremos os mesmos para prosseguir com a implementação de ML."
   ]
  },
  {
   "cell_type": "code",
   "execution_count": 16,
   "metadata": {},
   "outputs": [
    {
     "data": {
      "image/png": "[encoded data removed]",
      "text/plain": [
       "<Figure size 640x480 with 1 Axes>"
      ]
     },
     "metadata": {},
     "output_type": "display_data"
    }
   ],
   "source": [
    "sns.boxplot(dados, x='Target', y='disciplinas 1º semestre (notas)')\n",
    "plt.show()"
   ]
  },
  {
   "cell_type": "code",
   "execution_count": 17,
   "metadata": {},
   "outputs": [
    {
     "data": {
      "image/png": "[encoded data removed]",
      "text/plain": [
       "<Figure size 640x480 with 1 Axes>"
      ]
     },
     "metadata": {},
     "output_type": "display_data"
    }
   ],
   "source": [
    "sns.boxplot(dados, x='Target', y='disciplinas 2º semestre (notas)')\n",
    "plt.show()"
   ]
  },
  {
   "cell_type": "code",
   "execution_count": 18,
   "metadata": {},
   "outputs": [
    {
     "data": {
      "text/plain": [
       "Target\n",
       "Graduado       49.932188\n",
       "Desistente     32.120253\n",
       "Matriculado    17.947559\n",
       "Name: proportion, dtype: float64"
      ]
     },
     "execution_count": 18,
     "metadata": {},
     "output_type": "execute_result"
    }
   ],
   "source": [
    "dados['Target'].value_counts(normalize=True) * 100"
   ]
  },
  {
   "cell_type": "markdown",
   "metadata": {},
   "source": [
    "## Demais análises\n",
    "\n",
    "### Migração\n",
    "Na categoria de Migração (\"Sim\"), a quantidade de graduados é notavelmente maior do que em outras categorias, indicando um alto êxito no processo educacional. \n",
    "Por outro lado, na categoria de Migração (\"Não\"), as taxas de desistência e graduação são quase equivalentes, sugerindo um desafio na retenção de estudantes nesse contexto específico. Esses dados ressaltam a necessidade de implementar estratégias de apoio à permanência dos alunos em instituições de ensino."
   ]
  },
  {
   "cell_type": "code",
   "execution_count": 19,
   "metadata": {},
   "outputs": [
    {
     "data": {
      "image/png": "[encoded data removed]",
      "text/plain": [
       "<Figure size 640x480 with 1 Axes>"
      ]
     },
     "metadata": {},
     "output_type": "display_data"
    }
   ],
   "source": [
    "sns.countplot(data=dados, x='Migração', hue='Target')\n",
    "plt.show()"
   ]
  },
  {
   "cell_type": "markdown",
   "metadata": {},
   "source": [
    "### Necessidades educacionais especiais\n",
    "Ao analisar a porcentagem de necessidades educacionais especiais em relação a situação, esses números indicam que a presença de necessidades educacionais especiais é relativamente baixa em todas as categorias de situação, com a maioria dos estudantes não apresentando tais necessidades."
   ]
  },
  {
   "cell_type": "code",
   "execution_count": 20,
   "metadata": {},
   "outputs": [
    {
     "data": {
      "text/plain": [
       "Target       Necessidades educacionais especiais\n",
       "Desistente   Não                                    98.803659\n",
       "             Sim                                     1.196341\n",
       "Graduado     Não                                    98.958805\n",
       "             Sim                                     1.041195\n",
       "Matriculado  Não                                    98.614610\n",
       "             Sim                                     1.385390\n",
       "Name: proportion, dtype: float64"
      ]
     },
     "execution_count": 20,
     "metadata": {},
     "output_type": "execute_result"
    }
   ],
   "source": [
    "dados.groupby('Target')['Necessidades educacionais especiais'].value_counts(normalize=True)*100"
   ]
  },
  {
   "cell_type": "markdown",
   "metadata": {},
   "source": [
    "### Taxa de desemprego\n",
    "\n",
    "No boxplot, podemos notar que a diferença entre os valores mínimos e máximos, é a mesma em todos os gráficos, porém existe uma distinção notável entre as distribuições.\n",
    "As caixas que representam os grupos de \"Desistentes\" e \"Graduados\" são visualmente idênticas, indicando uma similaridade nas estatísticas centrais desses dois grupos. Por outro lado, a caixa que representa os \"Matriculados\" possui o quartil de 75% posicionado mais abaixo, sugerindo que a maior parte das taxas de desemprego nesse grupo está concentrada em valores mais baixos, com uma menor dispersão em relação aos outros grupos."
   ]
  },
  {
   "cell_type": "code",
   "execution_count": 21,
   "metadata": {},
   "outputs": [
    {
     "data": {
      "image/png": "[encoded data removed]",
      "text/plain": [
       "<Figure size 640x480 with 1 Axes>"
      ]
     },
     "metadata": {},
     "output_type": "display_data"
    }
   ],
   "source": [
    "sns.boxplot(x='Target', y='Taxa de desemprego', data=dados)\n",
    "plt.show()"
   ]
  },
  {
   "cell_type": "markdown",
   "metadata": {},
   "source": [
    "### Taxa de inflação\n",
    "\n",
    "A análise dos boxplots da taxa de inflação revela alguns padrões interessantes. Primeiramente, notamos que a amplitude, que representa a variação total dos dados, é consistente em todos os grupos, indicando uma faixa semelhante de valores de taxa de inflação em cada caso. Isso sugere que, independentemente da categoria, os valores extremos da taxa de inflação não se afastam muito.\n",
    "\n",
    "Um ponto de destaque é a similaridade entre as caixas dos grupos \"Desistentes\" e \"Matriculados\". Ambos exibem caixas idênticas, com as medianas posicionadas na faixa de 1% a 2%. Isso sugere que esses dois grupos têm comportamentos de taxa de inflação bastante semelhantes.\n",
    "\n",
    "Quanto o grupo \"Graduados\" se diferencia, apresentando uma mediana mais baixa, com menos de 1%. Isso indica que, em média, os \"Graduados\" enfrentam uma taxa de inflação significativamente inferior em comparação com os outros grupos, o que pode ser indicativo de diferenças econômicas ou comportamentais entre os grupos."
   ]
  },
  {
   "cell_type": "code",
   "execution_count": 22,
   "metadata": {},
   "outputs": [
    {
     "data": {
      "image/png": "[encoded data removed]",
      "text/plain": [
       "<Figure size 640x480 with 1 Axes>"
      ]
     },
     "metadata": {},
     "output_type": "display_data"
    }
   ],
   "source": [
    "sns.boxplot(x='Target', y='Taxa de inflação', data=dados)\n",
    "plt.show()"
   ]
  },
  {
   "cell_type": "markdown",
   "metadata": {},
   "source": [
    "### PIB\n",
    "\n",
    "Podemos observar que os boxplots referentes ao PIB destaca alguns padrões distintos. É notável que a amplitude, representando a variação total dos dados, seja consistente em todos os grupos, indicando uma faixa semelhante de valores de PIB em cada caso. \n",
    "No entanto, chama a atenção a similaridade marcante entre os grupos de \"Desistentes\" e \"Matriculados\", cujas caixas são praticamente idênticas, e as medianas estão próximas de 0. Essa semelhança sugere que esses dois grupos compartilham tendências econômicas similares. Em contraste, o grupo \"Graduados\" se destaca com uma mediana mais elevada, próxima de 1, indicando um PIB médio superior."
   ]
  },
  {
   "cell_type": "code",
   "execution_count": 23,
   "metadata": {},
   "outputs": [
    {
     "data": {
      "image/png": "[encoded data removed]",
      "text/plain": [
       "<Figure size 640x480 with 1 Axes>"
      ]
     },
     "metadata": {},
     "output_type": "display_data"
    }
   ],
   "source": [
    "sns.boxplot(x='Target', y='PIB', data=dados)\n",
    "plt.show()"
   ]
  },
  {
   "cell_type": "markdown",
   "metadata": {},
   "source": [
    "### Qualificação prévia\n",
    "\n",
    "Por fim, em relação a qualificação prévia, podemos notar que a maioria das pessoas possui educação secundária, representando 84.02%, enquanto cursos de especialização tecnológica e níveis de educação básica do 3º ciclo seguem com porcentagens de 4.95% e 3.66%, respectivamente. \n",
    "Níveis mais elevados de educação, como licenciaturas e pós-graduações, apresentam percentagens baixas, destacando a predominância da educação secundária entre os estudantes analisados."
   ]
  },
  {
   "cell_type": "code",
   "execution_count": 24,
   "metadata": {},
   "outputs": [
    {
     "data": {
      "text/plain": [
       "Qualificação prévia\n",
       "Educação secundária                                         84.018987\n",
       "Curso de especialização tecnológica                          4.950271\n",
       "Educação básica 3º ciclo (9º/10º/11º ano) ou equivalente     3.661844\n",
       "Educação superior - licenciatura                             2.848101\n",
       "Outro - 11º ano de escolaridade                              1.017179\n",
       "Educação superior - licenciatura (1º ciclo)                  0.904159\n",
       "Curso técnico superior profissional                          0.813743\n",
       "Educação superior - bacharelado                              0.519892\n",
       "Frequência de educação superior                              0.361664\n",
       "12º ano de escolaridade - não concluído                      0.248644\n",
       "Educação superior - mestrado                                 0.180832\n",
       "Educação básica 2º ciclo (6º/7º/8º ano) ou equivalente       0.158228\n",
       "Educação superior - mestrado (2º ciclo)                      0.135624\n",
       "11º ano de escolaridade - não concluído                      0.090416\n",
       "10º ano de escolaridade - não concluído                      0.045208\n",
       "Educação superior - doutorado                                0.022604\n",
       "10º ano de escolaridade                                      0.022604\n",
       "Name: proportion, dtype: float64"
      ]
     },
     "execution_count": 24,
     "metadata": {},
     "output_type": "execute_result"
    }
   ],
   "source": [
    "dados['Qualificação prévia'].value_counts(normalize=True)*100"
   ]
  },
  {
   "cell_type": "markdown",
   "metadata": {},
   "source": [
    "## Preparação dos dados"
   ]
  },
  {
   "cell_type": "code",
   "execution_count": 25,
   "metadata": {},
   "outputs": [
    {
     "data": {
      "text/html": [
       "<div>\n",
       "<style scoped>\n",
       "    .dataframe tbody tr th:only-of-type {\n",
       "        vertical-align: middle;\n",
       "    }\n",
       "\n",
       "    .dataframe tbody tr th {\n",
       "        vertical-align: top;\n",
       "    }\n",
       "\n",
       "    .dataframe thead th {\n",
       "        text-align: right;\n",
       "    }\n",
       "</style>\n",
       "<table border=\"1\" class=\"dataframe\">\n",
       "  <thead>\n",
       "    <tr style=\"text-align: right;\">\n",
       "      <th></th>\n",
       "      <th>Idade na matrícula</th>\n",
       "      <th>Taxa de desemprego</th>\n",
       "      <th>Taxa de inflação</th>\n",
       "      <th>PIB</th>\n",
       "      <th>disciplinas 1º semestre (creditadas)</th>\n",
       "      <th>disciplinas 1º semestre (matriculadas)</th>\n",
       "      <th>disciplinas 1º semestre (avaliações)</th>\n",
       "      <th>disciplinas 1º semestre (aprovadas)</th>\n",
       "      <th>disciplinas 1º semestre (notas)</th>\n",
       "      <th>disciplinas 1º semestre (sem avaliações)</th>\n",
       "      <th>disciplinas 2º semestre (creditadas)</th>\n",
       "      <th>disciplinas 2º semestre (matriculadas)</th>\n",
       "      <th>disciplinas 2º semestre (avaliações)</th>\n",
       "      <th>disciplinas 2º semestre (aprovadas)</th>\n",
       "      <th>disciplinas 2º semestre (notas)</th>\n",
       "      <th>disciplinas 2º semestre (sem avaliações)</th>\n",
       "      <th>Target</th>\n",
       "      <th>Estado civil_Casado</th>\n",
       "      <th>Estado civil_Divorciado</th>\n",
       "      <th>Estado civil_Legalmente Separado</th>\n",
       "      <th>Estado civil_Solteiro</th>\n",
       "      <th>Estado civil_União Estável</th>\n",
       "      <th>Estado civil_Viúvo</th>\n",
       "      <th>Migração_Sim</th>\n",
       "      <th>Sexo_Masculino</th>\n",
       "      <th>Estrangeiro_Sim</th>\n",
       "      <th>Necessidades educacionais especiais_Sim</th>\n",
       "      <th>Devedor_Sim</th>\n",
       "      <th>Taxas de matrícula em dia_Sim</th>\n",
       "      <th>Bolsista_Sim</th>\n",
       "      <th>Curso_Agronomia</th>\n",
       "      <th>Curso_Animação e Design Multimídia</th>\n",
       "      <th>Curso_Design de Comunicação</th>\n",
       "      <th>Curso_Educação Básica</th>\n",
       "      <th>Curso_Enfermagem</th>\n",
       "      <th>Curso_Enfermagem Veterinária</th>\n",
       "      <th>Curso_Engenharia da computação</th>\n",
       "      <th>Curso_Gestão</th>\n",
       "      <th>Curso_Gestão (noturno)</th>\n",
       "      <th>Curso_Gestão de Publicidade e Marketing</th>\n",
       "      <th>Curso_Jornalismo e Comunicação</th>\n",
       "      <th>Curso_Odontologia</th>\n",
       "      <th>Curso_Serviço Social</th>\n",
       "      <th>Curso_Serviço Social (noturno)</th>\n",
       "      <th>Curso_Tecnologias de Produção de Biocombustíveis</th>\n",
       "      <th>Curso_Turismo</th>\n",
       "      <th>Curso_Zootecnia</th>\n",
       "      <th>Período_Noturno</th>\n",
       "      <th>Qualificação prévia_10º ano de escolaridade</th>\n",
       "      <th>Qualificação prévia_10º ano de escolaridade - não concluído</th>\n",
       "      <th>Qualificação prévia_11º ano de escolaridade - não concluído</th>\n",
       "      <th>Qualificação prévia_12º ano de escolaridade - não concluído</th>\n",
       "      <th>Qualificação prévia_Curso de especialização tecnológica</th>\n",
       "      <th>Qualificação prévia_Curso técnico superior profissional</th>\n",
       "      <th>Qualificação prévia_Educação básica 2º ciclo (6º/7º/8º ano) ou equivalente</th>\n",
       "      <th>Qualificação prévia_Educação básica 3º ciclo (9º/10º/11º ano) ou equivalente</th>\n",
       "      <th>Qualificação prévia_Educação secundária</th>\n",
       "      <th>Qualificação prévia_Educação superior - bacharelado</th>\n",
       "      <th>Qualificação prévia_Educação superior - doutorado</th>\n",
       "      <th>Qualificação prévia_Educação superior - licenciatura</th>\n",
       "      <th>Qualificação prévia_Educação superior - licenciatura (1º ciclo)</th>\n",
       "      <th>Qualificação prévia_Educação superior - mestrado</th>\n",
       "      <th>Qualificação prévia_Educação superior - mestrado (2º ciclo)</th>\n",
       "      <th>Qualificação prévia_Frequência de educação superior</th>\n",
       "      <th>Qualificação prévia_Outro - 11º ano de escolaridade</th>\n",
       "    </tr>\n",
       "  </thead>\n",
       "  <tbody>\n",
       "    <tr>\n",
       "      <th>0</th>\n",
       "      <td>20</td>\n",
       "      <td>10.8</td>\n",
       "      <td>1.4</td>\n",
       "      <td>1.74</td>\n",
       "      <td>0</td>\n",
       "      <td>0</td>\n",
       "      <td>0</td>\n",
       "      <td>0</td>\n",
       "      <td>0.000000</td>\n",
       "      <td>0</td>\n",
       "      <td>0</td>\n",
       "      <td>0</td>\n",
       "      <td>0</td>\n",
       "      <td>0</td>\n",
       "      <td>0.000000</td>\n",
       "      <td>0</td>\n",
       "      <td>Desistente</td>\n",
       "      <td>0.0</td>\n",
       "      <td>0.0</td>\n",
       "      <td>0.0</td>\n",
       "      <td>1.0</td>\n",
       "      <td>0.0</td>\n",
       "      <td>0.0</td>\n",
       "      <td>1.0</td>\n",
       "      <td>1.0</td>\n",
       "      <td>0.0</td>\n",
       "      <td>0.0</td>\n",
       "      <td>0.0</td>\n",
       "      <td>1.0</td>\n",
       "      <td>0.0</td>\n",
       "      <td>0.0</td>\n",
       "      <td>1.0</td>\n",
       "      <td>0.0</td>\n",
       "      <td>0.0</td>\n",
       "      <td>0.0</td>\n",
       "      <td>0.0</td>\n",
       "      <td>0.0</td>\n",
       "      <td>0.0</td>\n",
       "      <td>0.0</td>\n",
       "      <td>0.0</td>\n",
       "      <td>0.0</td>\n",
       "      <td>0.0</td>\n",
       "      <td>0.0</td>\n",
       "      <td>0.0</td>\n",
       "      <td>0.0</td>\n",
       "      <td>0.0</td>\n",
       "      <td>0.0</td>\n",
       "      <td>0.0</td>\n",
       "      <td>0.0</td>\n",
       "      <td>0.0</td>\n",
       "      <td>0.0</td>\n",
       "      <td>0.0</td>\n",
       "      <td>0.0</td>\n",
       "      <td>0.0</td>\n",
       "      <td>0.0</td>\n",
       "      <td>0.0</td>\n",
       "      <td>1.0</td>\n",
       "      <td>0.0</td>\n",
       "      <td>0.0</td>\n",
       "      <td>0.0</td>\n",
       "      <td>0.0</td>\n",
       "      <td>0.0</td>\n",
       "      <td>0.0</td>\n",
       "      <td>0.0</td>\n",
       "      <td>0.0</td>\n",
       "    </tr>\n",
       "    <tr>\n",
       "      <th>1</th>\n",
       "      <td>19</td>\n",
       "      <td>13.9</td>\n",
       "      <td>-0.3</td>\n",
       "      <td>0.79</td>\n",
       "      <td>0</td>\n",
       "      <td>6</td>\n",
       "      <td>6</td>\n",
       "      <td>6</td>\n",
       "      <td>14.000000</td>\n",
       "      <td>0</td>\n",
       "      <td>0</td>\n",
       "      <td>6</td>\n",
       "      <td>6</td>\n",
       "      <td>6</td>\n",
       "      <td>13.666667</td>\n",
       "      <td>0</td>\n",
       "      <td>Graduado</td>\n",
       "      <td>0.0</td>\n",
       "      <td>0.0</td>\n",
       "      <td>0.0</td>\n",
       "      <td>1.0</td>\n",
       "      <td>0.0</td>\n",
       "      <td>0.0</td>\n",
       "      <td>1.0</td>\n",
       "      <td>1.0</td>\n",
       "      <td>0.0</td>\n",
       "      <td>0.0</td>\n",
       "      <td>0.0</td>\n",
       "      <td>0.0</td>\n",
       "      <td>0.0</td>\n",
       "      <td>0.0</td>\n",
       "      <td>0.0</td>\n",
       "      <td>0.0</td>\n",
       "      <td>0.0</td>\n",
       "      <td>0.0</td>\n",
       "      <td>0.0</td>\n",
       "      <td>0.0</td>\n",
       "      <td>0.0</td>\n",
       "      <td>0.0</td>\n",
       "      <td>0.0</td>\n",
       "      <td>0.0</td>\n",
       "      <td>0.0</td>\n",
       "      <td>0.0</td>\n",
       "      <td>0.0</td>\n",
       "      <td>0.0</td>\n",
       "      <td>1.0</td>\n",
       "      <td>0.0</td>\n",
       "      <td>0.0</td>\n",
       "      <td>0.0</td>\n",
       "      <td>0.0</td>\n",
       "      <td>0.0</td>\n",
       "      <td>0.0</td>\n",
       "      <td>0.0</td>\n",
       "      <td>0.0</td>\n",
       "      <td>0.0</td>\n",
       "      <td>0.0</td>\n",
       "      <td>1.0</td>\n",
       "      <td>0.0</td>\n",
       "      <td>0.0</td>\n",
       "      <td>0.0</td>\n",
       "      <td>0.0</td>\n",
       "      <td>0.0</td>\n",
       "      <td>0.0</td>\n",
       "      <td>0.0</td>\n",
       "      <td>0.0</td>\n",
       "    </tr>\n",
       "    <tr>\n",
       "      <th>2</th>\n",
       "      <td>19</td>\n",
       "      <td>10.8</td>\n",
       "      <td>1.4</td>\n",
       "      <td>1.74</td>\n",
       "      <td>0</td>\n",
       "      <td>6</td>\n",
       "      <td>0</td>\n",
       "      <td>0</td>\n",
       "      <td>0.000000</td>\n",
       "      <td>0</td>\n",
       "      <td>0</td>\n",
       "      <td>6</td>\n",
       "      <td>0</td>\n",
       "      <td>0</td>\n",
       "      <td>0.000000</td>\n",
       "      <td>0</td>\n",
       "      <td>Desistente</td>\n",
       "      <td>0.0</td>\n",
       "      <td>0.0</td>\n",
       "      <td>0.0</td>\n",
       "      <td>1.0</td>\n",
       "      <td>0.0</td>\n",
       "      <td>0.0</td>\n",
       "      <td>1.0</td>\n",
       "      <td>1.0</td>\n",
       "      <td>0.0</td>\n",
       "      <td>0.0</td>\n",
       "      <td>0.0</td>\n",
       "      <td>0.0</td>\n",
       "      <td>0.0</td>\n",
       "      <td>0.0</td>\n",
       "      <td>0.0</td>\n",
       "      <td>1.0</td>\n",
       "      <td>0.0</td>\n",
       "      <td>0.0</td>\n",
       "      <td>0.0</td>\n",
       "      <td>0.0</td>\n",
       "      <td>0.0</td>\n",
       "      <td>0.0</td>\n",
       "      <td>0.0</td>\n",
       "      <td>0.0</td>\n",
       "      <td>0.0</td>\n",
       "      <td>0.0</td>\n",
       "      <td>0.0</td>\n",
       "      <td>0.0</td>\n",
       "      <td>0.0</td>\n",
       "      <td>0.0</td>\n",
       "      <td>0.0</td>\n",
       "      <td>0.0</td>\n",
       "      <td>0.0</td>\n",
       "      <td>0.0</td>\n",
       "      <td>0.0</td>\n",
       "      <td>0.0</td>\n",
       "      <td>0.0</td>\n",
       "      <td>0.0</td>\n",
       "      <td>0.0</td>\n",
       "      <td>1.0</td>\n",
       "      <td>0.0</td>\n",
       "      <td>0.0</td>\n",
       "      <td>0.0</td>\n",
       "      <td>0.0</td>\n",
       "      <td>0.0</td>\n",
       "      <td>0.0</td>\n",
       "      <td>0.0</td>\n",
       "      <td>0.0</td>\n",
       "    </tr>\n",
       "    <tr>\n",
       "      <th>3</th>\n",
       "      <td>20</td>\n",
       "      <td>9.4</td>\n",
       "      <td>-0.8</td>\n",
       "      <td>-3.12</td>\n",
       "      <td>0</td>\n",
       "      <td>6</td>\n",
       "      <td>8</td>\n",
       "      <td>6</td>\n",
       "      <td>13.428571</td>\n",
       "      <td>0</td>\n",
       "      <td>0</td>\n",
       "      <td>6</td>\n",
       "      <td>10</td>\n",
       "      <td>5</td>\n",
       "      <td>12.400000</td>\n",
       "      <td>0</td>\n",
       "      <td>Graduado</td>\n",
       "      <td>0.0</td>\n",
       "      <td>0.0</td>\n",
       "      <td>0.0</td>\n",
       "      <td>1.0</td>\n",
       "      <td>0.0</td>\n",
       "      <td>0.0</td>\n",
       "      <td>1.0</td>\n",
       "      <td>0.0</td>\n",
       "      <td>0.0</td>\n",
       "      <td>0.0</td>\n",
       "      <td>0.0</td>\n",
       "      <td>1.0</td>\n",
       "      <td>0.0</td>\n",
       "      <td>0.0</td>\n",
       "      <td>0.0</td>\n",
       "      <td>0.0</td>\n",
       "      <td>0.0</td>\n",
       "      <td>0.0</td>\n",
       "      <td>0.0</td>\n",
       "      <td>0.0</td>\n",
       "      <td>0.0</td>\n",
       "      <td>0.0</td>\n",
       "      <td>0.0</td>\n",
       "      <td>1.0</td>\n",
       "      <td>0.0</td>\n",
       "      <td>0.0</td>\n",
       "      <td>0.0</td>\n",
       "      <td>0.0</td>\n",
       "      <td>0.0</td>\n",
       "      <td>0.0</td>\n",
       "      <td>0.0</td>\n",
       "      <td>0.0</td>\n",
       "      <td>0.0</td>\n",
       "      <td>0.0</td>\n",
       "      <td>0.0</td>\n",
       "      <td>0.0</td>\n",
       "      <td>0.0</td>\n",
       "      <td>0.0</td>\n",
       "      <td>0.0</td>\n",
       "      <td>1.0</td>\n",
       "      <td>0.0</td>\n",
       "      <td>0.0</td>\n",
       "      <td>0.0</td>\n",
       "      <td>0.0</td>\n",
       "      <td>0.0</td>\n",
       "      <td>0.0</td>\n",
       "      <td>0.0</td>\n",
       "      <td>0.0</td>\n",
       "    </tr>\n",
       "    <tr>\n",
       "      <th>4</th>\n",
       "      <td>45</td>\n",
       "      <td>13.9</td>\n",
       "      <td>-0.3</td>\n",
       "      <td>0.79</td>\n",
       "      <td>0</td>\n",
       "      <td>6</td>\n",
       "      <td>9</td>\n",
       "      <td>5</td>\n",
       "      <td>12.333333</td>\n",
       "      <td>0</td>\n",
       "      <td>0</td>\n",
       "      <td>6</td>\n",
       "      <td>6</td>\n",
       "      <td>6</td>\n",
       "      <td>13.000000</td>\n",
       "      <td>0</td>\n",
       "      <td>Graduado</td>\n",
       "      <td>1.0</td>\n",
       "      <td>0.0</td>\n",
       "      <td>0.0</td>\n",
       "      <td>0.0</td>\n",
       "      <td>0.0</td>\n",
       "      <td>0.0</td>\n",
       "      <td>0.0</td>\n",
       "      <td>0.0</td>\n",
       "      <td>0.0</td>\n",
       "      <td>0.0</td>\n",
       "      <td>0.0</td>\n",
       "      <td>1.0</td>\n",
       "      <td>0.0</td>\n",
       "      <td>0.0</td>\n",
       "      <td>0.0</td>\n",
       "      <td>0.0</td>\n",
       "      <td>0.0</td>\n",
       "      <td>0.0</td>\n",
       "      <td>0.0</td>\n",
       "      <td>0.0</td>\n",
       "      <td>0.0</td>\n",
       "      <td>0.0</td>\n",
       "      <td>0.0</td>\n",
       "      <td>0.0</td>\n",
       "      <td>0.0</td>\n",
       "      <td>0.0</td>\n",
       "      <td>1.0</td>\n",
       "      <td>0.0</td>\n",
       "      <td>0.0</td>\n",
       "      <td>0.0</td>\n",
       "      <td>1.0</td>\n",
       "      <td>0.0</td>\n",
       "      <td>0.0</td>\n",
       "      <td>0.0</td>\n",
       "      <td>0.0</td>\n",
       "      <td>0.0</td>\n",
       "      <td>0.0</td>\n",
       "      <td>0.0</td>\n",
       "      <td>0.0</td>\n",
       "      <td>1.0</td>\n",
       "      <td>0.0</td>\n",
       "      <td>0.0</td>\n",
       "      <td>0.0</td>\n",
       "      <td>0.0</td>\n",
       "      <td>0.0</td>\n",
       "      <td>0.0</td>\n",
       "      <td>0.0</td>\n",
       "      <td>0.0</td>\n",
       "    </tr>\n",
       "    <tr>\n",
       "      <th>...</th>\n",
       "      <td>...</td>\n",
       "      <td>...</td>\n",
       "      <td>...</td>\n",
       "      <td>...</td>\n",
       "      <td>...</td>\n",
       "      <td>...</td>\n",
       "      <td>...</td>\n",
       "      <td>...</td>\n",
       "      <td>...</td>\n",
       "      <td>...</td>\n",
       "      <td>...</td>\n",
       "      <td>...</td>\n",
       "      <td>...</td>\n",
       "      <td>...</td>\n",
       "      <td>...</td>\n",
       "      <td>...</td>\n",
       "      <td>...</td>\n",
       "      <td>...</td>\n",
       "      <td>...</td>\n",
       "      <td>...</td>\n",
       "      <td>...</td>\n",
       "      <td>...</td>\n",
       "      <td>...</td>\n",
       "      <td>...</td>\n",
       "      <td>...</td>\n",
       "      <td>...</td>\n",
       "      <td>...</td>\n",
       "      <td>...</td>\n",
       "      <td>...</td>\n",
       "      <td>...</td>\n",
       "      <td>...</td>\n",
       "      <td>...</td>\n",
       "      <td>...</td>\n",
       "      <td>...</td>\n",
       "      <td>...</td>\n",
       "      <td>...</td>\n",
       "      <td>...</td>\n",
       "      <td>...</td>\n",
       "      <td>...</td>\n",
       "      <td>...</td>\n",
       "      <td>...</td>\n",
       "      <td>...</td>\n",
       "      <td>...</td>\n",
       "      <td>...</td>\n",
       "      <td>...</td>\n",
       "      <td>...</td>\n",
       "      <td>...</td>\n",
       "      <td>...</td>\n",
       "      <td>...</td>\n",
       "      <td>...</td>\n",
       "      <td>...</td>\n",
       "      <td>...</td>\n",
       "      <td>...</td>\n",
       "      <td>...</td>\n",
       "      <td>...</td>\n",
       "      <td>...</td>\n",
       "      <td>...</td>\n",
       "      <td>...</td>\n",
       "      <td>...</td>\n",
       "      <td>...</td>\n",
       "      <td>...</td>\n",
       "      <td>...</td>\n",
       "      <td>...</td>\n",
       "      <td>...</td>\n",
       "      <td>...</td>\n",
       "    </tr>\n",
       "    <tr>\n",
       "      <th>4419</th>\n",
       "      <td>19</td>\n",
       "      <td>15.5</td>\n",
       "      <td>2.8</td>\n",
       "      <td>-4.06</td>\n",
       "      <td>0</td>\n",
       "      <td>6</td>\n",
       "      <td>7</td>\n",
       "      <td>5</td>\n",
       "      <td>13.600000</td>\n",
       "      <td>0</td>\n",
       "      <td>0</td>\n",
       "      <td>6</td>\n",
       "      <td>8</td>\n",
       "      <td>5</td>\n",
       "      <td>12.666667</td>\n",
       "      <td>0</td>\n",
       "      <td>Graduado</td>\n",
       "      <td>0.0</td>\n",
       "      <td>0.0</td>\n",
       "      <td>0.0</td>\n",
       "      <td>1.0</td>\n",
       "      <td>0.0</td>\n",
       "      <td>0.0</td>\n",
       "      <td>0.0</td>\n",
       "      <td>1.0</td>\n",
       "      <td>0.0</td>\n",
       "      <td>0.0</td>\n",
       "      <td>0.0</td>\n",
       "      <td>1.0</td>\n",
       "      <td>0.0</td>\n",
       "      <td>0.0</td>\n",
       "      <td>0.0</td>\n",
       "      <td>0.0</td>\n",
       "      <td>0.0</td>\n",
       "      <td>0.0</td>\n",
       "      <td>0.0</td>\n",
       "      <td>0.0</td>\n",
       "      <td>0.0</td>\n",
       "      <td>0.0</td>\n",
       "      <td>0.0</td>\n",
       "      <td>1.0</td>\n",
       "      <td>0.0</td>\n",
       "      <td>0.0</td>\n",
       "      <td>0.0</td>\n",
       "      <td>0.0</td>\n",
       "      <td>0.0</td>\n",
       "      <td>0.0</td>\n",
       "      <td>0.0</td>\n",
       "      <td>0.0</td>\n",
       "      <td>0.0</td>\n",
       "      <td>0.0</td>\n",
       "      <td>0.0</td>\n",
       "      <td>0.0</td>\n",
       "      <td>0.0</td>\n",
       "      <td>0.0</td>\n",
       "      <td>0.0</td>\n",
       "      <td>1.0</td>\n",
       "      <td>0.0</td>\n",
       "      <td>0.0</td>\n",
       "      <td>0.0</td>\n",
       "      <td>0.0</td>\n",
       "      <td>0.0</td>\n",
       "      <td>0.0</td>\n",
       "      <td>0.0</td>\n",
       "      <td>0.0</td>\n",
       "    </tr>\n",
       "    <tr>\n",
       "      <th>4420</th>\n",
       "      <td>18</td>\n",
       "      <td>11.1</td>\n",
       "      <td>0.6</td>\n",
       "      <td>2.02</td>\n",
       "      <td>0</td>\n",
       "      <td>6</td>\n",
       "      <td>6</td>\n",
       "      <td>6</td>\n",
       "      <td>12.000000</td>\n",
       "      <td>0</td>\n",
       "      <td>0</td>\n",
       "      <td>6</td>\n",
       "      <td>6</td>\n",
       "      <td>2</td>\n",
       "      <td>11.000000</td>\n",
       "      <td>0</td>\n",
       "      <td>Desistente</td>\n",
       "      <td>0.0</td>\n",
       "      <td>0.0</td>\n",
       "      <td>0.0</td>\n",
       "      <td>1.0</td>\n",
       "      <td>0.0</td>\n",
       "      <td>0.0</td>\n",
       "      <td>1.0</td>\n",
       "      <td>0.0</td>\n",
       "      <td>1.0</td>\n",
       "      <td>0.0</td>\n",
       "      <td>1.0</td>\n",
       "      <td>0.0</td>\n",
       "      <td>0.0</td>\n",
       "      <td>0.0</td>\n",
       "      <td>0.0</td>\n",
       "      <td>0.0</td>\n",
       "      <td>0.0</td>\n",
       "      <td>0.0</td>\n",
       "      <td>0.0</td>\n",
       "      <td>0.0</td>\n",
       "      <td>0.0</td>\n",
       "      <td>0.0</td>\n",
       "      <td>0.0</td>\n",
       "      <td>1.0</td>\n",
       "      <td>0.0</td>\n",
       "      <td>0.0</td>\n",
       "      <td>0.0</td>\n",
       "      <td>0.0</td>\n",
       "      <td>0.0</td>\n",
       "      <td>0.0</td>\n",
       "      <td>0.0</td>\n",
       "      <td>0.0</td>\n",
       "      <td>0.0</td>\n",
       "      <td>0.0</td>\n",
       "      <td>0.0</td>\n",
       "      <td>0.0</td>\n",
       "      <td>0.0</td>\n",
       "      <td>0.0</td>\n",
       "      <td>0.0</td>\n",
       "      <td>1.0</td>\n",
       "      <td>0.0</td>\n",
       "      <td>0.0</td>\n",
       "      <td>0.0</td>\n",
       "      <td>0.0</td>\n",
       "      <td>0.0</td>\n",
       "      <td>0.0</td>\n",
       "      <td>0.0</td>\n",
       "      <td>0.0</td>\n",
       "    </tr>\n",
       "    <tr>\n",
       "      <th>4421</th>\n",
       "      <td>30</td>\n",
       "      <td>13.9</td>\n",
       "      <td>-0.3</td>\n",
       "      <td>0.79</td>\n",
       "      <td>0</td>\n",
       "      <td>7</td>\n",
       "      <td>8</td>\n",
       "      <td>7</td>\n",
       "      <td>14.912500</td>\n",
       "      <td>0</td>\n",
       "      <td>0</td>\n",
       "      <td>8</td>\n",
       "      <td>9</td>\n",
       "      <td>1</td>\n",
       "      <td>13.500000</td>\n",
       "      <td>0</td>\n",
       "      <td>Desistente</td>\n",
       "      <td>0.0</td>\n",
       "      <td>0.0</td>\n",
       "      <td>0.0</td>\n",
       "      <td>1.0</td>\n",
       "      <td>0.0</td>\n",
       "      <td>0.0</td>\n",
       "      <td>1.0</td>\n",
       "      <td>0.0</td>\n",
       "      <td>0.0</td>\n",
       "      <td>0.0</td>\n",
       "      <td>0.0</td>\n",
       "      <td>1.0</td>\n",
       "      <td>1.0</td>\n",
       "      <td>0.0</td>\n",
       "      <td>0.0</td>\n",
       "      <td>0.0</td>\n",
       "      <td>0.0</td>\n",
       "      <td>1.0</td>\n",
       "      <td>0.0</td>\n",
       "      <td>0.0</td>\n",
       "      <td>0.0</td>\n",
       "      <td>0.0</td>\n",
       "      <td>0.0</td>\n",
       "      <td>0.0</td>\n",
       "      <td>0.0</td>\n",
       "      <td>0.0</td>\n",
       "      <td>0.0</td>\n",
       "      <td>0.0</td>\n",
       "      <td>0.0</td>\n",
       "      <td>0.0</td>\n",
       "      <td>0.0</td>\n",
       "      <td>0.0</td>\n",
       "      <td>0.0</td>\n",
       "      <td>0.0</td>\n",
       "      <td>0.0</td>\n",
       "      <td>0.0</td>\n",
       "      <td>0.0</td>\n",
       "      <td>0.0</td>\n",
       "      <td>0.0</td>\n",
       "      <td>1.0</td>\n",
       "      <td>0.0</td>\n",
       "      <td>0.0</td>\n",
       "      <td>0.0</td>\n",
       "      <td>0.0</td>\n",
       "      <td>0.0</td>\n",
       "      <td>0.0</td>\n",
       "      <td>0.0</td>\n",
       "      <td>0.0</td>\n",
       "    </tr>\n",
       "    <tr>\n",
       "      <th>4422</th>\n",
       "      <td>20</td>\n",
       "      <td>9.4</td>\n",
       "      <td>-0.8</td>\n",
       "      <td>-3.12</td>\n",
       "      <td>0</td>\n",
       "      <td>5</td>\n",
       "      <td>5</td>\n",
       "      <td>5</td>\n",
       "      <td>13.800000</td>\n",
       "      <td>0</td>\n",
       "      <td>0</td>\n",
       "      <td>5</td>\n",
       "      <td>6</td>\n",
       "      <td>5</td>\n",
       "      <td>12.000000</td>\n",
       "      <td>0</td>\n",
       "      <td>Graduado</td>\n",
       "      <td>0.0</td>\n",
       "      <td>0.0</td>\n",
       "      <td>0.0</td>\n",
       "      <td>1.0</td>\n",
       "      <td>0.0</td>\n",
       "      <td>0.0</td>\n",
       "      <td>1.0</td>\n",
       "      <td>0.0</td>\n",
       "      <td>0.0</td>\n",
       "      <td>0.0</td>\n",
       "      <td>0.0</td>\n",
       "      <td>1.0</td>\n",
       "      <td>1.0</td>\n",
       "      <td>0.0</td>\n",
       "      <td>0.0</td>\n",
       "      <td>0.0</td>\n",
       "      <td>0.0</td>\n",
       "      <td>0.0</td>\n",
       "      <td>0.0</td>\n",
       "      <td>0.0</td>\n",
       "      <td>1.0</td>\n",
       "      <td>0.0</td>\n",
       "      <td>0.0</td>\n",
       "      <td>0.0</td>\n",
       "      <td>0.0</td>\n",
       "      <td>0.0</td>\n",
       "      <td>0.0</td>\n",
       "      <td>0.0</td>\n",
       "      <td>0.0</td>\n",
       "      <td>0.0</td>\n",
       "      <td>0.0</td>\n",
       "      <td>0.0</td>\n",
       "      <td>0.0</td>\n",
       "      <td>0.0</td>\n",
       "      <td>0.0</td>\n",
       "      <td>0.0</td>\n",
       "      <td>0.0</td>\n",
       "      <td>0.0</td>\n",
       "      <td>0.0</td>\n",
       "      <td>1.0</td>\n",
       "      <td>0.0</td>\n",
       "      <td>0.0</td>\n",
       "      <td>0.0</td>\n",
       "      <td>0.0</td>\n",
       "      <td>0.0</td>\n",
       "      <td>0.0</td>\n",
       "      <td>0.0</td>\n",
       "      <td>0.0</td>\n",
       "    </tr>\n",
       "    <tr>\n",
       "      <th>4423</th>\n",
       "      <td>22</td>\n",
       "      <td>12.7</td>\n",
       "      <td>3.7</td>\n",
       "      <td>-1.70</td>\n",
       "      <td>0</td>\n",
       "      <td>6</td>\n",
       "      <td>8</td>\n",
       "      <td>6</td>\n",
       "      <td>11.666667</td>\n",
       "      <td>0</td>\n",
       "      <td>0</td>\n",
       "      <td>6</td>\n",
       "      <td>6</td>\n",
       "      <td>6</td>\n",
       "      <td>13.000000</td>\n",
       "      <td>0</td>\n",
       "      <td>Graduado</td>\n",
       "      <td>0.0</td>\n",
       "      <td>0.0</td>\n",
       "      <td>0.0</td>\n",
       "      <td>1.0</td>\n",
       "      <td>0.0</td>\n",
       "      <td>0.0</td>\n",
       "      <td>1.0</td>\n",
       "      <td>0.0</td>\n",
       "      <td>1.0</td>\n",
       "      <td>0.0</td>\n",
       "      <td>0.0</td>\n",
       "      <td>1.0</td>\n",
       "      <td>0.0</td>\n",
       "      <td>0.0</td>\n",
       "      <td>0.0</td>\n",
       "      <td>0.0</td>\n",
       "      <td>0.0</td>\n",
       "      <td>0.0</td>\n",
       "      <td>0.0</td>\n",
       "      <td>0.0</td>\n",
       "      <td>0.0</td>\n",
       "      <td>0.0</td>\n",
       "      <td>0.0</td>\n",
       "      <td>1.0</td>\n",
       "      <td>0.0</td>\n",
       "      <td>0.0</td>\n",
       "      <td>0.0</td>\n",
       "      <td>0.0</td>\n",
       "      <td>0.0</td>\n",
       "      <td>0.0</td>\n",
       "      <td>0.0</td>\n",
       "      <td>0.0</td>\n",
       "      <td>0.0</td>\n",
       "      <td>0.0</td>\n",
       "      <td>0.0</td>\n",
       "      <td>0.0</td>\n",
       "      <td>0.0</td>\n",
       "      <td>0.0</td>\n",
       "      <td>0.0</td>\n",
       "      <td>1.0</td>\n",
       "      <td>0.0</td>\n",
       "      <td>0.0</td>\n",
       "      <td>0.0</td>\n",
       "      <td>0.0</td>\n",
       "      <td>0.0</td>\n",
       "      <td>0.0</td>\n",
       "      <td>0.0</td>\n",
       "      <td>0.0</td>\n",
       "    </tr>\n",
       "  </tbody>\n",
       "</table>\n",
       "<p>4424 rows × 65 columns</p>\n",
       "</div>"
      ],
      "text/plain": [
       "      Idade na matrícula  Taxa de desemprego  Taxa de inflação   PIB  \\\n",
       "0                     20                10.8               1.4  1.74   \n",
       "1                     19                13.9              -0.3  0.79   \n",
       "2                     19                10.8               1.4  1.74   \n",
       "3                     20                 9.4              -0.8 -3.12   \n",
       "4                     45                13.9              -0.3  0.79   \n",
       "...                  ...                 ...               ...   ...   \n",
       "4419                  19                15.5               2.8 -4.06   \n",
       "4420                  18                11.1               0.6  2.02   \n",
       "4421                  30                13.9              -0.3  0.79   \n",
       "4422                  20                 9.4              -0.8 -3.12   \n",
       "4423                  22                12.7               3.7 -1.70   \n",
       "\n",
       "      disciplinas 1º semestre (creditadas)  \\\n",
       "0                                        0   \n",
       "1                                        0   \n",
       "2                                        0   \n",
       "3                                        0   \n",
       "4                                        0   \n",
       "...                                    ...   \n",
       "4419                                     0   \n",
       "4420                                     0   \n",
       "4421                                     0   \n",
       "4422                                     0   \n",
       "4423                                     0   \n",
       "\n",
       "      disciplinas 1º semestre (matriculadas)  \\\n",
       "0                                          0   \n",
       "1                                          6   \n",
       "2                                          6   \n",
       "3                                          6   \n",
       "4                                          6   \n",
       "...                                      ...   \n",
       "4419                                       6   \n",
       "4420                                       6   \n",
       "4421                                       7   \n",
       "4422                                       5   \n",
       "4423                                       6   \n",
       "\n",
       "      disciplinas 1º semestre (avaliações)  \\\n",
       "0                                        0   \n",
       "1                                        6   \n",
       "2                                        0   \n",
       "3                                        8   \n",
       "4                                        9   \n",
       "...                                    ...   \n",
       "4419                                     7   \n",
       "4420                                     6   \n",
       "4421                                     8   \n",
       "4422                                     5   \n",
       "4423                                     8   \n",
       "\n",
       "      disciplinas 1º semestre (aprovadas)  disciplinas 1º semestre (notas)  \\\n",
       "0                                       0                         0.000000   \n",
       "1                                       6                        14.000000   \n",
       "2                                       0                         0.000000   \n",
       "3                                       6                        13.428571   \n",
       "4                                       5                        12.333333   \n",
       "...                                   ...                              ...   \n",
       "4419                                    5                        13.600000   \n",
       "4420                                    6                        12.000000   \n",
       "4421                                    7                        14.912500   \n",
       "4422                                    5                        13.800000   \n",
       "4423                                    6                        11.666667   \n",
       "\n",
       "      disciplinas 1º semestre (sem avaliações)  \\\n",
       "0                                            0   \n",
       "1                                            0   \n",
       "2                                            0   \n",
       "3                                            0   \n",
       "4                                            0   \n",
       "...                                        ...   \n",
       "4419                                         0   \n",
       "4420                                         0   \n",
       "4421                                         0   \n",
       "4422                                         0   \n",
       "4423                                         0   \n",
       "\n",
       "      disciplinas 2º semestre (creditadas)  \\\n",
       "0                                        0   \n",
       "1                                        0   \n",
       "2                                        0   \n",
       "3                                        0   \n",
       "4                                        0   \n",
       "...                                    ...   \n",
       "4419                                     0   \n",
       "4420                                     0   \n",
       "4421                                     0   \n",
       "4422                                     0   \n",
       "4423                                     0   \n",
       "\n",
       "      disciplinas 2º semestre (matriculadas)  \\\n",
       "0                                          0   \n",
       "1                                          6   \n",
       "2                                          6   \n",
       "3                                          6   \n",
       "4                                          6   \n",
       "...                                      ...   \n",
       "4419                                       6   \n",
       "4420                                       6   \n",
       "4421                                       8   \n",
       "4422                                       5   \n",
       "4423                                       6   \n",
       "\n",
       "      disciplinas 2º semestre (avaliações)  \\\n",
       "0                                        0   \n",
       "1                                        6   \n",
       "2                                        0   \n",
       "3                                       10   \n",
       "4                                        6   \n",
       "...                                    ...   \n",
       "4419                                     8   \n",
       "4420                                     6   \n",
       "4421                                     9   \n",
       "4422                                     6   \n",
       "4423                                     6   \n",
       "\n",
       "      disciplinas 2º semestre (aprovadas)  disciplinas 2º semestre (notas)  \\\n",
       "0                                       0                         0.000000   \n",
       "1                                       6                        13.666667   \n",
       "2                                       0                         0.000000   \n",
       "3                                       5                        12.400000   \n",
       "4                                       6                        13.000000   \n",
       "...                                   ...                              ...   \n",
       "4419                                    5                        12.666667   \n",
       "4420                                    2                        11.000000   \n",
       "4421                                    1                        13.500000   \n",
       "4422                                    5                        12.000000   \n",
       "4423                                    6                        13.000000   \n",
       "\n",
       "      disciplinas 2º semestre (sem avaliações)      Target  \\\n",
       "0                                            0  Desistente   \n",
       "1                                            0    Graduado   \n",
       "2                                            0  Desistente   \n",
       "3                                            0    Graduado   \n",
       "4                                            0    Graduado   \n",
       "...                                        ...         ...   \n",
       "4419                                         0    Graduado   \n",
       "4420                                         0  Desistente   \n",
       "4421                                         0  Desistente   \n",
       "4422                                         0    Graduado   \n",
       "4423                                         0    Graduado   \n",
       "\n",
       "      Estado civil_Casado  Estado civil_Divorciado  \\\n",
       "0                     0.0                      0.0   \n",
       "1                     0.0                      0.0   \n",
       "2                     0.0                      0.0   \n",
       "3                     0.0                      0.0   \n",
       "4                     1.0                      0.0   \n",
       "...                   ...                      ...   \n",
       "4419                  0.0                      0.0   \n",
       "4420                  0.0                      0.0   \n",
       "4421                  0.0                      0.0   \n",
       "4422                  0.0                      0.0   \n",
       "4423                  0.0                      0.0   \n",
       "\n",
       "      Estado civil_Legalmente Separado  Estado civil_Solteiro  \\\n",
       "0                                  0.0                    1.0   \n",
       "1                                  0.0                    1.0   \n",
       "2                                  0.0                    1.0   \n",
       "3                                  0.0                    1.0   \n",
       "4                                  0.0                    0.0   \n",
       "...                                ...                    ...   \n",
       "4419                               0.0                    1.0   \n",
       "4420                               0.0                    1.0   \n",
       "4421                               0.0                    1.0   \n",
       "4422                               0.0                    1.0   \n",
       "4423                               0.0                    1.0   \n",
       "\n",
       "      Estado civil_União Estável  Estado civil_Viúvo  Migração_Sim  \\\n",
       "0                            0.0                 0.0           1.0   \n",
       "1                            0.0                 0.0           1.0   \n",
       "2                            0.0                 0.0           1.0   \n",
       "3                            0.0                 0.0           1.0   \n",
       "4                            0.0                 0.0           0.0   \n",
       "...                          ...                 ...           ...   \n",
       "4419                         0.0                 0.0           0.0   \n",
       "4420                         0.0                 0.0           1.0   \n",
       "4421                         0.0                 0.0           1.0   \n",
       "4422                         0.0                 0.0           1.0   \n",
       "4423                         0.0                 0.0           1.0   \n",
       "\n",
       "      Sexo_Masculino  Estrangeiro_Sim  \\\n",
       "0                1.0              0.0   \n",
       "1                1.0              0.0   \n",
       "2                1.0              0.0   \n",
       "3                0.0              0.0   \n",
       "4                0.0              0.0   \n",
       "...              ...              ...   \n",
       "4419             1.0              0.0   \n",
       "4420             0.0              1.0   \n",
       "4421             0.0              0.0   \n",
       "4422             0.0              0.0   \n",
       "4423             0.0              1.0   \n",
       "\n",
       "      Necessidades educacionais especiais_Sim  Devedor_Sim  \\\n",
       "0                                         0.0          0.0   \n",
       "1                                         0.0          0.0   \n",
       "2                                         0.0          0.0   \n",
       "3                                         0.0          0.0   \n",
       "4                                         0.0          0.0   \n",
       "...                                       ...          ...   \n",
       "4419                                      0.0          0.0   \n",
       "4420                                      0.0          1.0   \n",
       "4421                                      0.0          0.0   \n",
       "4422                                      0.0          0.0   \n",
       "4423                                      0.0          0.0   \n",
       "\n",
       "      Taxas de matrícula em dia_Sim  Bolsista_Sim  Curso_Agronomia  \\\n",
       "0                               1.0           0.0              0.0   \n",
       "1                               0.0           0.0              0.0   \n",
       "2                               0.0           0.0              0.0   \n",
       "3                               1.0           0.0              0.0   \n",
       "4                               1.0           0.0              0.0   \n",
       "...                             ...           ...              ...   \n",
       "4419                            1.0           0.0              0.0   \n",
       "4420                            0.0           0.0              0.0   \n",
       "4421                            1.0           1.0              0.0   \n",
       "4422                            1.0           1.0              0.0   \n",
       "4423                            1.0           0.0              0.0   \n",
       "\n",
       "      Curso_Animação e Design Multimídia  Curso_Design de Comunicação  \\\n",
       "0                                    1.0                          0.0   \n",
       "1                                    0.0                          0.0   \n",
       "2                                    0.0                          1.0   \n",
       "3                                    0.0                          0.0   \n",
       "4                                    0.0                          0.0   \n",
       "...                                  ...                          ...   \n",
       "4419                                 0.0                          0.0   \n",
       "4420                                 0.0                          0.0   \n",
       "4421                                 0.0                          0.0   \n",
       "4422                                 0.0                          0.0   \n",
       "4423                                 0.0                          0.0   \n",
       "\n",
       "      Curso_Educação Básica  Curso_Enfermagem  Curso_Enfermagem Veterinária  \\\n",
       "0                       0.0               0.0                           0.0   \n",
       "1                       0.0               0.0                           0.0   \n",
       "2                       0.0               0.0                           0.0   \n",
       "3                       0.0               0.0                           0.0   \n",
       "4                       0.0               0.0                           0.0   \n",
       "...                     ...               ...                           ...   \n",
       "4419                    0.0               0.0                           0.0   \n",
       "4420                    0.0               0.0                           0.0   \n",
       "4421                    0.0               1.0                           0.0   \n",
       "4422                    0.0               0.0                           0.0   \n",
       "4423                    0.0               0.0                           0.0   \n",
       "\n",
       "      Curso_Engenharia da computação  Curso_Gestão  Curso_Gestão (noturno)  \\\n",
       "0                                0.0           0.0                     0.0   \n",
       "1                                0.0           0.0                     0.0   \n",
       "2                                0.0           0.0                     0.0   \n",
       "3                                0.0           0.0                     0.0   \n",
       "4                                0.0           0.0                     0.0   \n",
       "...                              ...           ...                     ...   \n",
       "4419                             0.0           0.0                     0.0   \n",
       "4420                             0.0           0.0                     0.0   \n",
       "4421                             0.0           0.0                     0.0   \n",
       "4422                             0.0           1.0                     0.0   \n",
       "4423                             0.0           0.0                     0.0   \n",
       "\n",
       "      Curso_Gestão de Publicidade e Marketing  Curso_Jornalismo e Comunicação  \\\n",
       "0                                         0.0                             0.0   \n",
       "1                                         0.0                             0.0   \n",
       "2                                         0.0                             0.0   \n",
       "3                                         0.0                             1.0   \n",
       "4                                         0.0                             0.0   \n",
       "...                                       ...                             ...   \n",
       "4419                                      0.0                             1.0   \n",
       "4420                                      0.0                             1.0   \n",
       "4421                                      0.0                             0.0   \n",
       "4422                                      0.0                             0.0   \n",
       "4423                                      0.0                             1.0   \n",
       "\n",
       "      Curso_Odontologia  Curso_Serviço Social  Curso_Serviço Social (noturno)  \\\n",
       "0                   0.0                   0.0                             0.0   \n",
       "1                   0.0                   0.0                             0.0   \n",
       "2                   0.0                   0.0                             0.0   \n",
       "3                   0.0                   0.0                             0.0   \n",
       "4                   0.0                   0.0                             1.0   \n",
       "...                 ...                   ...                             ...   \n",
       "4419                0.0                   0.0                             0.0   \n",
       "4420                0.0                   0.0                             0.0   \n",
       "4421                0.0                   0.0                             0.0   \n",
       "4422                0.0                   0.0                             0.0   \n",
       "4423                0.0                   0.0                             0.0   \n",
       "\n",
       "      Curso_Tecnologias de Produção de Biocombustíveis  Curso_Turismo  \\\n",
       "0                                                  0.0            0.0   \n",
       "1                                                  0.0            1.0   \n",
       "2                                                  0.0            0.0   \n",
       "3                                                  0.0            0.0   \n",
       "4                                                  0.0            0.0   \n",
       "...                                                ...            ...   \n",
       "4419                                               0.0            0.0   \n",
       "4420                                               0.0            0.0   \n",
       "4421                                               0.0            0.0   \n",
       "4422                                               0.0            0.0   \n",
       "4423                                               0.0            0.0   \n",
       "\n",
       "      Curso_Zootecnia  Período_Noturno  \\\n",
       "0                 0.0              0.0   \n",
       "1                 0.0              0.0   \n",
       "2                 0.0              0.0   \n",
       "3                 0.0              0.0   \n",
       "4                 0.0              1.0   \n",
       "...               ...              ...   \n",
       "4419              0.0              0.0   \n",
       "4420              0.0              0.0   \n",
       "4421              0.0              0.0   \n",
       "4422              0.0              0.0   \n",
       "4423              0.0              0.0   \n",
       "\n",
       "      Qualificação prévia_10º ano de escolaridade  \\\n",
       "0                                             0.0   \n",
       "1                                             0.0   \n",
       "2                                             0.0   \n",
       "3                                             0.0   \n",
       "4                                             0.0   \n",
       "...                                           ...   \n",
       "4419                                          0.0   \n",
       "4420                                          0.0   \n",
       "4421                                          0.0   \n",
       "4422                                          0.0   \n",
       "4423                                          0.0   \n",
       "\n",
       "      Qualificação prévia_10º ano de escolaridade - não concluído  \\\n",
       "0                                                   0.0             \n",
       "1                                                   0.0             \n",
       "2                                                   0.0             \n",
       "3                                                   0.0             \n",
       "4                                                   0.0             \n",
       "...                                                 ...             \n",
       "4419                                                0.0             \n",
       "4420                                                0.0             \n",
       "4421                                                0.0             \n",
       "4422                                                0.0             \n",
       "4423                                                0.0             \n",
       "\n",
       "      Qualificação prévia_11º ano de escolaridade - não concluído  \\\n",
       "0                                                   0.0             \n",
       "1                                                   0.0             \n",
       "2                                                   0.0             \n",
       "3                                                   0.0             \n",
       "4                                                   0.0             \n",
       "...                                                 ...             \n",
       "4419                                                0.0             \n",
       "4420                                                0.0             \n",
       "4421                                                0.0             \n",
       "4422                                                0.0             \n",
       "4423                                                0.0             \n",
       "\n",
       "      Qualificação prévia_12º ano de escolaridade - não concluído  \\\n",
       "0                                                   0.0             \n",
       "1                                                   0.0             \n",
       "2                                                   0.0             \n",
       "3                                                   0.0             \n",
       "4                                                   0.0             \n",
       "...                                                 ...             \n",
       "4419                                                0.0             \n",
       "4420                                                0.0             \n",
       "4421                                                0.0             \n",
       "4422                                                0.0             \n",
       "4423                                                0.0             \n",
       "\n",
       "      Qualificação prévia_Curso de especialização tecnológica  \\\n",
       "0                                                   0.0         \n",
       "1                                                   0.0         \n",
       "2                                                   0.0         \n",
       "3                                                   0.0         \n",
       "4                                                   0.0         \n",
       "...                                                 ...         \n",
       "4419                                                0.0         \n",
       "4420                                                0.0         \n",
       "4421                                                0.0         \n",
       "4422                                                0.0         \n",
       "4423                                                0.0         \n",
       "\n",
       "      Qualificação prévia_Curso técnico superior profissional  \\\n",
       "0                                                   0.0         \n",
       "1                                                   0.0         \n",
       "2                                                   0.0         \n",
       "3                                                   0.0         \n",
       "4                                                   0.0         \n",
       "...                                                 ...         \n",
       "4419                                                0.0         \n",
       "4420                                                0.0         \n",
       "4421                                                0.0         \n",
       "4422                                                0.0         \n",
       "4423                                                0.0         \n",
       "\n",
       "      Qualificação prévia_Educação básica 2º ciclo (6º/7º/8º ano) ou equivalente  \\\n",
       "0                                                   0.0                            \n",
       "1                                                   0.0                            \n",
       "2                                                   0.0                            \n",
       "3                                                   0.0                            \n",
       "4                                                   0.0                            \n",
       "...                                                 ...                            \n",
       "4419                                                0.0                            \n",
       "4420                                                0.0                            \n",
       "4421                                                0.0                            \n",
       "4422                                                0.0                            \n",
       "4423                                                0.0                            \n",
       "\n",
       "      Qualificação prévia_Educação básica 3º ciclo (9º/10º/11º ano) ou equivalente  \\\n",
       "0                                                   0.0                              \n",
       "1                                                   0.0                              \n",
       "2                                                   0.0                              \n",
       "3                                                   0.0                              \n",
       "4                                                   0.0                              \n",
       "...                                                 ...                              \n",
       "4419                                                0.0                              \n",
       "4420                                                0.0                              \n",
       "4421                                                0.0                              \n",
       "4422                                                0.0                              \n",
       "4423                                                0.0                              \n",
       "\n",
       "      Qualificação prévia_Educação secundária  \\\n",
       "0                                         1.0   \n",
       "1                                         1.0   \n",
       "2                                         1.0   \n",
       "3                                         1.0   \n",
       "4                                         1.0   \n",
       "...                                       ...   \n",
       "4419                                      1.0   \n",
       "4420                                      1.0   \n",
       "4421                                      1.0   \n",
       "4422                                      1.0   \n",
       "4423                                      1.0   \n",
       "\n",
       "      Qualificação prévia_Educação superior - bacharelado  \\\n",
       "0                                                   0.0     \n",
       "1                                                   0.0     \n",
       "2                                                   0.0     \n",
       "3                                                   0.0     \n",
       "4                                                   0.0     \n",
       "...                                                 ...     \n",
       "4419                                                0.0     \n",
       "4420                                                0.0     \n",
       "4421                                                0.0     \n",
       "4422                                                0.0     \n",
       "4423                                                0.0     \n",
       "\n",
       "      Qualificação prévia_Educação superior - doutorado  \\\n",
       "0                                                   0.0   \n",
       "1                                                   0.0   \n",
       "2                                                   0.0   \n",
       "3                                                   0.0   \n",
       "4                                                   0.0   \n",
       "...                                                 ...   \n",
       "4419                                                0.0   \n",
       "4420                                                0.0   \n",
       "4421                                                0.0   \n",
       "4422                                                0.0   \n",
       "4423                                                0.0   \n",
       "\n",
       "      Qualificação prévia_Educação superior - licenciatura  \\\n",
       "0                                                   0.0      \n",
       "1                                                   0.0      \n",
       "2                                                   0.0      \n",
       "3                                                   0.0      \n",
       "4                                                   0.0      \n",
       "...                                                 ...      \n",
       "4419                                                0.0      \n",
       "4420                                                0.0      \n",
       "4421                                                0.0      \n",
       "4422                                                0.0      \n",
       "4423                                                0.0      \n",
       "\n",
       "      Qualificação prévia_Educação superior - licenciatura (1º ciclo)  \\\n",
       "0                                                   0.0                 \n",
       "1                                                   0.0                 \n",
       "2                                                   0.0                 \n",
       "3                                                   0.0                 \n",
       "4                                                   0.0                 \n",
       "...                                                 ...                 \n",
       "4419                                                0.0                 \n",
       "4420                                                0.0                 \n",
       "4421                                                0.0                 \n",
       "4422                                                0.0                 \n",
       "4423                                                0.0                 \n",
       "\n",
       "      Qualificação prévia_Educação superior - mestrado  \\\n",
       "0                                                  0.0   \n",
       "1                                                  0.0   \n",
       "2                                                  0.0   \n",
       "3                                                  0.0   \n",
       "4                                                  0.0   \n",
       "...                                                ...   \n",
       "4419                                               0.0   \n",
       "4420                                               0.0   \n",
       "4421                                               0.0   \n",
       "4422                                               0.0   \n",
       "4423                                               0.0   \n",
       "\n",
       "      Qualificação prévia_Educação superior - mestrado (2º ciclo)  \\\n",
       "0                                                   0.0             \n",
       "1                                                   0.0             \n",
       "2                                                   0.0             \n",
       "3                                                   0.0             \n",
       "4                                                   0.0             \n",
       "...                                                 ...             \n",
       "4419                                                0.0             \n",
       "4420                                                0.0             \n",
       "4421                                                0.0             \n",
       "4422                                                0.0             \n",
       "4423                                                0.0             \n",
       "\n",
       "      Qualificação prévia_Frequência de educação superior  \\\n",
       "0                                                   0.0     \n",
       "1                                                   0.0     \n",
       "2                                                   0.0     \n",
       "3                                                   0.0     \n",
       "4                                                   0.0     \n",
       "...                                                 ...     \n",
       "4419                                                0.0     \n",
       "4420                                                0.0     \n",
       "4421                                                0.0     \n",
       "4422                                                0.0     \n",
       "4423                                                0.0     \n",
       "\n",
       "      Qualificação prévia_Outro - 11º ano de escolaridade  \n",
       "0                                                   0.0    \n",
       "1                                                   0.0    \n",
       "2                                                   0.0    \n",
       "3                                                   0.0    \n",
       "4                                                   0.0    \n",
       "...                                                 ...    \n",
       "4419                                                0.0    \n",
       "4420                                                0.0    \n",
       "4421                                                0.0    \n",
       "4422                                                0.0    \n",
       "4423                                                0.0    \n",
       "\n",
       "[4424 rows x 65 columns]"
      ]
     },
     "execution_count": 25,
     "metadata": {},
     "output_type": "execute_result"
    }
   ],
   "source": [
    "# Selecionando somente as colunas categóricas.\n",
    "colunas_categoricas = dados.drop(columns='Target', axis=1).select_dtypes(include='object').columns\n",
    "\n",
    "# Instanciando o objeto OneHotEncoder.\n",
    "encoder = OneHotEncoder(drop='if_binary')\n",
    "\n",
    "# Criando um dataframe com as colunas categóricas.\n",
    "dados_categorico = dados[colunas_categoricas]\n",
    "\n",
    "# Aplicando o encoder.\n",
    "dados_encoded = pd.DataFrame(encoder.fit_transform(dados_categorico).toarray(),\n",
    "                                        columns=encoder.get_feature_names_out(colunas_categoricas))\n",
    "\n",
    "# Concatenando os dados.\n",
    "dados_final = pd.concat([dados.drop(colunas_categoricas, axis=1), dados_encoded], axis=1)\n",
    "\n",
    "# Visualizando os dados.\n",
    "dados_final"
   ]
  },
  {
   "cell_type": "markdown",
   "metadata": {},
   "source": [
    "## Criando o modelo\n",
    "\n",
    "### Separando os dados de feature e target"
   ]
  },
  {
   "cell_type": "code",
   "execution_count": 26,
   "metadata": {},
   "outputs": [],
   "source": [
    "X = dados_final.drop(columns='Target', axis=1)\n",
    "y = dados_final['Target']"
   ]
  },
  {
   "cell_type": "markdown",
   "metadata": {},
   "source": [
    "### Separando os dados de treino, validação e teste"
   ]
  },
  {
   "cell_type": "code",
   "execution_count": 27,
   "metadata": {},
   "outputs": [],
   "source": [
    "# Dividindo os dados de teste.\n",
    "X, X_test, y, y_test = train_test_split(X, y, test_size=0.15, stratify=y, random_state=0)\n",
    "\n",
    "# Dividindo os dados de treino e validação.\n",
    "X_train, X_val, y_train, y_val = train_test_split(X, y, stratify=y, random_state=0)"
   ]
  },
  {
   "cell_type": "markdown",
   "metadata": {},
   "source": [
    "### Treinando o modelo: RandomForestClassifier"
   ]
  },
  {
   "cell_type": "code",
   "execution_count": 28,
   "metadata": {},
   "outputs": [
    {
     "name": "stdout",
     "output_type": "stream",
     "text": [
      "Acurácia de treino: 0.8946808510638298\n",
      "Acurácia de validação: 0.7755319148936171\n"
     ]
    }
   ],
   "source": [
    "# Instanciando o modelo.\n",
    "modelo_rf = RandomForestClassifier(max_depth=10, random_state=0)\n",
    "\n",
    "# Treinando o modelo.\n",
    "modelo_rf.fit(X_train, y_train)\n",
    "\n",
    "# Fazendo previsões.\n",
    "y_pred = modelo_rf.predict(X_val)\n",
    "\n",
    "# Acurácia de treino e validação.\n",
    "print(f'Acurácia de treino: {modelo_rf.score(X_train, y_train)}')\n",
    "print(f'Acurácia de validação: {modelo_rf.score(X_val, y_val)}')"
   ]
  },
  {
   "cell_type": "markdown",
   "metadata": {},
   "source": [
    "### Analisando matriz de confusão"
   ]
  },
  {
   "cell_type": "code",
   "execution_count": 29,
   "metadata": {},
   "outputs": [
    {
     "data": {
      "image/png": "[encoded data removed]",
      "text/plain": [
       "<Figure size 640x480 with 2 Axes>"
      ]
     },
     "metadata": {},
     "output_type": "display_data"
    }
   ],
   "source": [
    "# Matriz de confusão.\n",
    "matriz_confusao = confusion_matrix(y_val, y_pred)\n",
    "\n",
    "# Visualizando a matriz de confusão.\n",
    "visualizacao = ConfusionMatrixDisplay(matriz_confusao, display_labels=modelo_rf.classes_)\n",
    "visualizacao.plot(cmap='Blues');"
   ]
  },
  {
   "cell_type": "markdown",
   "metadata": {},
   "source": [
    "### Analisando relatório de métricas\n",
    "\n",
    "Ao analisar as métricas, podemos notar que as métricas da classe matrícula estão baixas, enquanto os demais estão relativamente altas."
   ]
  },
  {
   "cell_type": "code",
   "execution_count": 30,
   "metadata": {},
   "outputs": [
    {
     "name": "stdout",
     "output_type": "stream",
     "text": [
      "              precision    recall  f1-score   support\n",
      "\n",
      "  Desistente       0.82      0.77      0.79       302\n",
      "    Graduado       0.77      0.96      0.86       469\n",
      " Matriculado       0.62      0.27      0.38       169\n",
      "\n",
      "    accuracy                           0.78       940\n",
      "   macro avg       0.74      0.67      0.68       940\n",
      "weighted avg       0.76      0.78      0.75       940\n",
      "\n"
     ]
    }
   ],
   "source": [
    "# Relatório de classificação.\n",
    "print(classification_report(y_val, y_pred, target_names=modelo_rf.classes_))"
   ]
  },
  {
   "cell_type": "markdown",
   "metadata": {},
   "source": [
    "### Oversampling"
   ]
  },
  {
   "cell_type": "code",
   "execution_count": 31,
   "metadata": {},
   "outputs": [],
   "source": [
    "# Instanciando o objeto SMOTE.\n",
    "smote = SMOTE(random_state=0)\n",
    "\n",
    "# Aplicando o SMOTE.\n",
    "X_resampled, y_resampled = smote.fit_resample(X_train, y_train)"
   ]
  },
  {
   "cell_type": "markdown",
   "metadata": {},
   "source": [
    "### Retreinando o modelo"
   ]
  },
  {
   "cell_type": "code",
   "execution_count": 32,
   "metadata": {},
   "outputs": [
    {
     "name": "stdout",
     "output_type": "stream",
     "text": [
      "Acurácia de treino: 0.8887310606060606\n",
      "Acurácia de validação: 0.7627659574468085\n"
     ]
    }
   ],
   "source": [
    "# Instanciando o modelo.\n",
    "modelo_rf = RandomForestClassifier(max_depth=10, random_state=0)\n",
    "\n",
    "# Treinando o modelo.\n",
    "modelo_rf.fit(X_resampled, y_resampled)\n",
    "\n",
    "# Fazendo previsões.\n",
    "y_pred = modelo_rf.predict(X_val)\n",
    "\n",
    "# Acurácia de treino e validação.\n",
    "print(f'Acurácia de treino: {modelo_rf.score(X_resampled, y_resampled)}')\n",
    "print(f'Acurácia de validação: {modelo_rf.score(X_val, y_val)}')"
   ]
  },
  {
   "cell_type": "markdown",
   "metadata": {},
   "source": [
    "### Analisando matriz de confusão e relatório de métricas\n",
    "\n",
    "Após realizar o oversampling dos dados, podemos notar que houve uma melhoria na classificação, porém podemos notar que houve trade-off."
   ]
  },
  {
   "cell_type": "code",
   "execution_count": 33,
   "metadata": {},
   "outputs": [
    {
     "name": "stdout",
     "output_type": "stream",
     "text": [
      "              precision    recall  f1-score   support\n",
      "\n",
      "  Desistente       0.86      0.72      0.78       302\n",
      "    Graduado       0.81      0.88      0.84       469\n",
      " Matriculado       0.49      0.51      0.50       169\n",
      "\n",
      "    accuracy                           0.76       940\n",
      "   macro avg       0.72      0.70      0.71       940\n",
      "weighted avg       0.77      0.76      0.76       940\n",
      "\n"
     ]
    },
    {
     "data": {
      "image/png": "[encoded data removed]",
      "text/plain": [
       "<Figure size 640x480 with 2 Axes>"
      ]
     },
     "metadata": {},
     "output_type": "display_data"
    }
   ],
   "source": [
    "# Relatório de classificação.\n",
    "print(classification_report(y_val, y_pred, target_names=modelo_rf.classes_))\n",
    "\n",
    "# Matriz de confusão.\n",
    "matriz_confusao = confusion_matrix(y_val, y_pred)\n",
    "\n",
    "# Visualizando a matriz de confusão.\n",
    "visualizacao = ConfusionMatrixDisplay(matriz_confusao, display_labels=modelo_rf.classes_)\n",
    "visualizacao.plot(cmap='Blues');"
   ]
  }
 ],
 "metadata": {
  "kernelspec": {
   "display_name": "base",
   "language": "python",
   "name": "python3"
  },
  "language_info": {
   "codemirror_mode": {
    "name": "ipython",
    "version": 3
   },
   "file_extension": ".py",
   "mimetype": "text/x-python",
   "name": "python",
   "nbconvert_exporter": "python",
   "pygments_lexer": "ipython3",
   "version": "3.11.5"
  }
 },
 "nbformat": 4,
 "nbformat_minor": 2
}
